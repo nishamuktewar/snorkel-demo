{
  "nbformat": 4,
  "nbformat_minor": 0,
  "metadata": {
    "colab": {
      "name": "snorkel-demo.ipynb",
      "version": "0.3.2",
      "provenance": [],
      "include_colab_link": true
    },
    "kernelspec": {
      "name": "python3",
      "display_name": "Python 3"
    }
  },
  "cells": [
    {
      "cell_type": "markdown",
      "metadata": {
        "id": "view-in-github",
        "colab_type": "text"
      },
      "source": [
        "<a href=\"https://colab.research.google.com/github/nishamuktewar/test/blob/master/snorkel_demo.ipynb\" target=\"_parent\"><img src=\"https://colab.research.google.com/assets/colab-badge.svg\" alt=\"Open In Colab\"/></a>"
      ]
    },
    {
      "cell_type": "code",
      "metadata": {
        "id": "Q40cmhf21u79",
        "colab_type": "code",
        "outputId": "e075506a-c8c8-4517-a989-f0ee6ccde10e",
        "colab": {
          "base_uri": "https://localhost:8080/",
          "height": 1000
        }
      },
      "source": [
        "!pip3 install -r requirements.txt"
      ],
      "execution_count": 0,
      "outputs": [
        {
          "output_type": "stream",
          "text": [
            "Requirement already satisfied: beautifulsoup4==4.7.1 in /usr/local/lib/python3.6/dist-packages (from -r requirements.txt (line 1)) (4.7.1)\n",
            "Requirement already satisfied: future==0.17.1 in /usr/local/lib/python3.6/dist-packages (from -r requirements.txt (line 2)) (0.17.1)\n",
            "Requirement already satisfied: ipywidgets==7.4.2 in /usr/local/lib/python3.6/dist-packages (from -r requirements.txt (line 3)) (7.4.2)\n",
            "Requirement already satisfied: jupyter==1.0.0 in /usr/local/lib/python3.6/dist-packages (from -r requirements.txt (line 4)) (1.0.0)\n",
            "Requirement already satisfied: lxml==4.3.3 in /usr/local/lib/python3.6/dist-packages (from -r requirements.txt (line 5)) (4.3.3)\n",
            "Requirement already satisfied: matplotlib==3.0.1 in /usr/local/lib/python3.6/dist-packages (from -r requirements.txt (line 6)) (3.0.1)\n",
            "Requirement already satisfied: nltk==3.2.5 in /usr/local/lib/python3.6/dist-packages (from -r requirements.txt (line 7)) (3.2.5)\n",
            "Requirement already satisfied: numba==0.43.1 in /usr/local/lib/python3.6/dist-packages (from -r requirements.txt (line 8)) (0.43.1)\n",
            "Requirement already satisfied: numpy==1.16.1 in /usr/local/lib/python3.6/dist-packages (from -r requirements.txt (line 9)) (1.16.1)\n",
            "Requirement already satisfied: pandas==0.24.2 in /usr/local/lib/python3.6/dist-packages (from -r requirements.txt (line 10)) (0.24.2)\n",
            "Requirement already satisfied: py4j==0.10.8.1 in /usr/local/lib/python3.6/dist-packages (from -r requirements.txt (line 11)) (0.10.8.1)\n",
            "Requirement already satisfied: requests==2.22.0 in /usr/local/lib/python3.6/dist-packages (from -r requirements.txt (line 12)) (2.22.0)\n",
            "Requirement already satisfied: runipy==0.1.5 in /usr/local/lib/python3.6/dist-packages (from -r requirements.txt (line 13)) (0.1.5)\n",
            "Requirement already satisfied: scipy==1.2.1 in /usr/local/lib/python3.6/dist-packages (from -r requirements.txt (line 14)) (1.2.1)\n",
            "Requirement already satisfied: six==1.12.0 in /usr/local/lib/python3.6/dist-packages (from -r requirements.txt (line 15)) (1.12.0)\n",
            "Requirement already satisfied: spacy in /usr/local/lib/python3.6/dist-packages (from -r requirements.txt (line 16)) (2.1.4)\n",
            "Requirement already satisfied: sqlalchemy==1.3.3 in /usr/local/lib/python3.6/dist-packages (from -r requirements.txt (line 17)) (1.3.3)\n",
            "Requirement already satisfied: tika==1.19 in /usr/local/lib/python3.6/dist-packages (from -r requirements.txt (line 18)) (1.19)\n",
            "Requirement already satisfied: tqdm==4.32.1 in /usr/local/lib/python3.6/dist-packages (from -r requirements.txt (line 19)) (4.32.1)\n",
            "Requirement already satisfied: sklearn in /usr/local/lib/python3.6/dist-packages (from -r requirements.txt (line 20)) (0.0)\n",
            "Requirement already satisfied: soupsieve>=1.2 in /usr/local/lib/python3.6/dist-packages (from beautifulsoup4==4.7.1->-r requirements.txt (line 1)) (1.9.2)\n",
            "Requirement already satisfied: traitlets>=4.3.1 in /usr/local/lib/python3.6/dist-packages (from ipywidgets==7.4.2->-r requirements.txt (line 3)) (4.3.2)\n",
            "Requirement already satisfied: ipykernel>=4.5.1 in /usr/local/lib/python3.6/dist-packages (from ipywidgets==7.4.2->-r requirements.txt (line 3)) (4.6.1)\n",
            "Requirement already satisfied: ipython>=4.0.0; python_version >= \"3.3\" in /usr/local/lib/python3.6/dist-packages (from ipywidgets==7.4.2->-r requirements.txt (line 3)) (5.5.0)\n",
            "Requirement already satisfied: nbformat>=4.2.0 in /usr/local/lib/python3.6/dist-packages (from ipywidgets==7.4.2->-r requirements.txt (line 3)) (4.4.0)\n",
            "Requirement already satisfied: widgetsnbextension~=3.4.0 in /usr/local/lib/python3.6/dist-packages (from ipywidgets==7.4.2->-r requirements.txt (line 3)) (3.4.2)\n",
            "Requirement already satisfied: jupyter-console in /usr/local/lib/python3.6/dist-packages (from jupyter==1.0.0->-r requirements.txt (line 4)) (6.0.0)\n",
            "Requirement already satisfied: nbconvert in /usr/local/lib/python3.6/dist-packages (from jupyter==1.0.0->-r requirements.txt (line 4)) (5.5.0)\n",
            "Requirement already satisfied: qtconsole in /usr/local/lib/python3.6/dist-packages (from jupyter==1.0.0->-r requirements.txt (line 4)) (4.5.1)\n",
            "Requirement already satisfied: notebook in /usr/local/lib/python3.6/dist-packages (from jupyter==1.0.0->-r requirements.txt (line 4)) (5.2.2)\n",
            "Requirement already satisfied: cycler>=0.10 in /usr/local/lib/python3.6/dist-packages (from matplotlib==3.0.1->-r requirements.txt (line 6)) (0.10.0)\n",
            "Requirement already satisfied: pyparsing!=2.0.4,!=2.1.2,!=2.1.6,>=2.0.1 in /usr/local/lib/python3.6/dist-packages (from matplotlib==3.0.1->-r requirements.txt (line 6)) (2.4.0)\n",
            "Requirement already satisfied: kiwisolver>=1.0.1 in /usr/local/lib/python3.6/dist-packages (from matplotlib==3.0.1->-r requirements.txt (line 6)) (1.1.0)\n",
            "Requirement already satisfied: python-dateutil>=2.1 in /usr/local/lib/python3.6/dist-packages (from matplotlib==3.0.1->-r requirements.txt (line 6)) (2.5.3)\n",
            "Requirement already satisfied: llvmlite>=0.28.0dev0 in /usr/local/lib/python3.6/dist-packages (from numba==0.43.1->-r requirements.txt (line 8)) (0.29.0)\n",
            "Requirement already satisfied: pytz>=2011k in /usr/local/lib/python3.6/dist-packages (from pandas==0.24.2->-r requirements.txt (line 10)) (2018.9)\n",
            "Requirement already satisfied: chardet<3.1.0,>=3.0.2 in /usr/local/lib/python3.6/dist-packages (from requests==2.22.0->-r requirements.txt (line 12)) (3.0.4)\n",
            "Requirement already satisfied: certifi>=2017.4.17 in /usr/local/lib/python3.6/dist-packages (from requests==2.22.0->-r requirements.txt (line 12)) (2019.6.16)\n",
            "Requirement already satisfied: idna<2.9,>=2.5 in /usr/local/lib/python3.6/dist-packages (from requests==2.22.0->-r requirements.txt (line 12)) (2.8)\n",
            "Requirement already satisfied: urllib3!=1.25.0,!=1.25.1,<1.26,>=1.21.1 in /usr/local/lib/python3.6/dist-packages (from requests==2.22.0->-r requirements.txt (line 12)) (1.24.3)\n",
            "Requirement already satisfied: Pygments>=1.6 in /usr/local/lib/python3.6/dist-packages (from runipy==0.1.5->-r requirements.txt (line 13)) (2.1.3)\n",
            "Requirement already satisfied: pyzmq>=14.1.0 in /usr/local/lib/python3.6/dist-packages (from runipy==0.1.5->-r requirements.txt (line 13)) (17.0.0)\n",
            "Requirement already satisfied: Jinja2>=2.7.2 in /usr/local/lib/python3.6/dist-packages (from runipy==0.1.5->-r requirements.txt (line 13)) (2.10.1)\n",
            "Requirement already satisfied: murmurhash<1.1.0,>=0.28.0 in /usr/local/lib/python3.6/dist-packages (from spacy->-r requirements.txt (line 16)) (1.0.2)\n",
            "Requirement already satisfied: blis<0.3.0,>=0.2.2 in /usr/local/lib/python3.6/dist-packages (from spacy->-r requirements.txt (line 16)) (0.2.4)\n",
            "Requirement already satisfied: plac<1.0.0,>=0.9.6 in /usr/local/lib/python3.6/dist-packages (from spacy->-r requirements.txt (line 16)) (0.9.6)\n",
            "Requirement already satisfied: preshed<2.1.0,>=2.0.1 in /usr/local/lib/python3.6/dist-packages (from spacy->-r requirements.txt (line 16)) (2.0.1)\n",
            "Requirement already satisfied: thinc<7.1.0,>=7.0.2 in /usr/local/lib/python3.6/dist-packages (from spacy->-r requirements.txt (line 16)) (7.0.4)\n",
            "Requirement already satisfied: jsonschema<3.1.0,>=2.6.0 in /usr/local/lib/python3.6/dist-packages (from spacy->-r requirements.txt (line 16)) (2.6.0)\n",
            "Requirement already satisfied: cymem<2.1.0,>=2.0.2 in /usr/local/lib/python3.6/dist-packages (from spacy->-r requirements.txt (line 16)) (2.0.2)\n",
            "Requirement already satisfied: srsly<1.1.0,>=0.0.5 in /usr/local/lib/python3.6/dist-packages (from spacy->-r requirements.txt (line 16)) (0.0.7)\n",
            "Requirement already satisfied: wasabi<1.1.0,>=0.2.0 in /usr/local/lib/python3.6/dist-packages (from spacy->-r requirements.txt (line 16)) (0.2.2)\n",
            "Requirement already satisfied: setuptools in /usr/local/lib/python3.6/dist-packages (from tika==1.19->-r requirements.txt (line 18)) (41.0.1)\n",
            "Requirement already satisfied: scikit-learn in /usr/local/lib/python3.6/dist-packages (from sklearn->-r requirements.txt (line 20)) (0.21.2)\n",
            "Requirement already satisfied: decorator in /usr/local/lib/python3.6/dist-packages (from traitlets>=4.3.1->ipywidgets==7.4.2->-r requirements.txt (line 3)) (4.4.0)\n",
            "Requirement already satisfied: ipython-genutils in /usr/local/lib/python3.6/dist-packages (from traitlets>=4.3.1->ipywidgets==7.4.2->-r requirements.txt (line 3)) (0.2.0)\n",
            "Requirement already satisfied: jupyter-client in /usr/local/lib/python3.6/dist-packages (from ipykernel>=4.5.1->ipywidgets==7.4.2->-r requirements.txt (line 3)) (5.2.4)\n",
            "Requirement already satisfied: tornado>=4.0 in /usr/local/lib/python3.6/dist-packages (from ipykernel>=4.5.1->ipywidgets==7.4.2->-r requirements.txt (line 3)) (4.5.3)\n",
            "Requirement already satisfied: pickleshare in /usr/local/lib/python3.6/dist-packages (from ipython>=4.0.0; python_version >= \"3.3\"->ipywidgets==7.4.2->-r requirements.txt (line 3)) (0.7.5)\n",
            "Requirement already satisfied: prompt-toolkit<2.0.0,>=1.0.4 in /usr/local/lib/python3.6/dist-packages (from ipython>=4.0.0; python_version >= \"3.3\"->ipywidgets==7.4.2->-r requirements.txt (line 3)) (1.0.16)\n",
            "Requirement already satisfied: simplegeneric>0.8 in /usr/local/lib/python3.6/dist-packages (from ipython>=4.0.0; python_version >= \"3.3\"->ipywidgets==7.4.2->-r requirements.txt (line 3)) (0.8.1)\n",
            "Requirement already satisfied: pexpect; sys_platform != \"win32\" in /usr/local/lib/python3.6/dist-packages (from ipython>=4.0.0; python_version >= \"3.3\"->ipywidgets==7.4.2->-r requirements.txt (line 3)) (4.7.0)\n",
            "Requirement already satisfied: jupyter-core in /usr/local/lib/python3.6/dist-packages (from nbformat>=4.2.0->ipywidgets==7.4.2->-r requirements.txt (line 3)) (4.5.0)\n",
            "Requirement already satisfied: testpath in /usr/local/lib/python3.6/dist-packages (from nbconvert->jupyter==1.0.0->-r requirements.txt (line 4)) (0.4.2)\n",
            "Requirement already satisfied: bleach in /usr/local/lib/python3.6/dist-packages (from nbconvert->jupyter==1.0.0->-r requirements.txt (line 4)) (3.1.0)\n",
            "Requirement already satisfied: defusedxml in /usr/local/lib/python3.6/dist-packages (from nbconvert->jupyter==1.0.0->-r requirements.txt (line 4)) (0.6.0)\n",
            "Requirement already satisfied: mistune>=0.8.1 in /usr/local/lib/python3.6/dist-packages (from nbconvert->jupyter==1.0.0->-r requirements.txt (line 4)) (0.8.4)\n",
            "Requirement already satisfied: entrypoints>=0.2.2 in /usr/local/lib/python3.6/dist-packages (from nbconvert->jupyter==1.0.0->-r requirements.txt (line 4)) (0.3)\n",
            "Requirement already satisfied: pandocfilters>=1.4.1 in /usr/local/lib/python3.6/dist-packages (from nbconvert->jupyter==1.0.0->-r requirements.txt (line 4)) (1.4.2)\n",
            "Requirement already satisfied: terminado>=0.3.3; sys_platform != \"win32\" in /usr/local/lib/python3.6/dist-packages (from notebook->jupyter==1.0.0->-r requirements.txt (line 4)) (0.8.2)\n",
            "Requirement already satisfied: MarkupSafe>=0.23 in /usr/local/lib/python3.6/dist-packages (from Jinja2>=2.7.2->runipy==0.1.5->-r requirements.txt (line 13)) (1.1.1)\n",
            "Requirement already satisfied: joblib>=0.11 in /usr/local/lib/python3.6/dist-packages (from scikit-learn->sklearn->-r requirements.txt (line 20)) (0.13.2)\n",
            "Requirement already satisfied: wcwidth in /usr/local/lib/python3.6/dist-packages (from prompt-toolkit<2.0.0,>=1.0.4->ipython>=4.0.0; python_version >= \"3.3\"->ipywidgets==7.4.2->-r requirements.txt (line 3)) (0.1.7)\n",
            "Requirement already satisfied: ptyprocess>=0.5 in /usr/local/lib/python3.6/dist-packages (from pexpect; sys_platform != \"win32\"->ipython>=4.0.0; python_version >= \"3.3\"->ipywidgets==7.4.2->-r requirements.txt (line 3)) (0.6.0)\n",
            "Requirement already satisfied: webencodings in /usr/local/lib/python3.6/dist-packages (from bleach->nbconvert->jupyter==1.0.0->-r requirements.txt (line 4)) (0.5.1)\n"
          ],
          "name": "stdout"
        }
      ]
    },
    {
      "cell_type": "code",
      "metadata": {
        "id": "CwylKnyV1xH-",
        "colab_type": "code",
        "outputId": "2d78a6e0-7601-4d63-f9f4-b8db2fe4aed3",
        "colab": {
          "base_uri": "https://localhost:8080/",
          "height": 170
        }
      },
      "source": [
        "!pip3 install git+https://github.com/HazyResearch/snorkel"
      ],
      "execution_count": 0,
      "outputs": [
        {
          "output_type": "stream",
          "text": [
            "Collecting git+https://github.com/HazyResearch/snorkel\n",
            "  Cloning https://github.com/HazyResearch/snorkel to /tmp/pip-req-build-r44d913h\n",
            "  Running command git clone -q https://github.com/HazyResearch/snorkel /tmp/pip-req-build-r44d913h\n",
            "Building wheels for collected packages: snorkel\n",
            "  Building wheel for snorkel (setup.py) ... \u001b[?25l\u001b[?25hdone\n",
            "  Stored in directory: /tmp/pip-ephem-wheel-cache-rd4f6r3d/wheels/62/6f/22/444271063e7be3c3547fd48ba1782c8053489be0e0226990b0\n",
            "Successfully built snorkel\n",
            "Installing collected packages: snorkel\n",
            "Successfully installed snorkel-0.7.0b0\n"
          ],
          "name": "stdout"
        }
      ]
    },
    {
      "cell_type": "code",
      "metadata": {
        "id": "pyPnpQ6t1-D-",
        "colab_type": "code",
        "outputId": "058e87db-062a-4ce4-9931-ade56d24eb24",
        "colab": {
          "base_uri": "https://localhost:8080/",
          "height": 51
        }
      },
      "source": [
        "%load_ext autoreload\n",
        "%autoreload 2"
      ],
      "execution_count": 0,
      "outputs": [
        {
          "output_type": "stream",
          "text": [
            "The autoreload extension is already loaded. To reload it, use:\n",
            "  %reload_ext autoreload\n"
          ],
          "name": "stdout"
        }
      ]
    },
    {
      "cell_type": "code",
      "metadata": {
        "id": "EnphVByC2D4w",
        "colab_type": "code",
        "colab": {}
      },
      "source": [
        "import pandas as pd\n",
        "import numpy as np\n",
        "import matplotlib.pyplot as plt\n",
        "import re\n",
        "import sklearn\n",
        "import os"
      ],
      "execution_count": 0,
      "outputs": []
    },
    {
      "cell_type": "code",
      "metadata": {
        "id": "CMgHSV-a2JGw",
        "colab_type": "code",
        "outputId": "cb8beb04-122f-449b-8e6a-6cef32b8500d",
        "colab": {
          "base_uri": "https://localhost:8080/",
          "height": 102
        }
      },
      "source": [
        "!pip3 install treedlib"
      ],
      "execution_count": 0,
      "outputs": [
        {
          "output_type": "stream",
          "text": [
            "Collecting treedlib\n",
            "  Downloading https://files.pythonhosted.org/packages/20/e8/dd387c84b91e6dd46f8c20ea94e58be2975eb9b80174edb4742441f3f82e/treedlib-0.1.1-py3-none-any.whl\n",
            "Requirement already satisfied: lxml in /usr/local/lib/python3.6/dist-packages (from treedlib) (4.3.3)\n",
            "Installing collected packages: treedlib\n",
            "Successfully installed treedlib-0.1.1\n"
          ],
          "name": "stdout"
        }
      ]
    },
    {
      "cell_type": "code",
      "metadata": {
        "id": "quOwouvn2WAK",
        "colab_type": "code",
        "outputId": "c5f1ccfc-ea80-4026-f189-8846f30710c3",
        "colab": {
          "base_uri": "https://localhost:8080/",
          "height": 102
        }
      },
      "source": [
        "!pip3 install numbskull"
      ],
      "execution_count": 0,
      "outputs": [
        {
          "output_type": "stream",
          "text": [
            "Collecting numbskull\n",
            "  Downloading https://files.pythonhosted.org/packages/c8/56/03f98485dec32d15522a59d35d87107a46375288a7a4ee1fffde7ff8fff2/numbskull-0.1.1-py3-none-any.whl\n",
            "Requirement already satisfied: future in /usr/local/lib/python3.6/dist-packages (from numbskull) (0.17.1)\n",
            "Installing collected packages: numbskull\n",
            "Successfully installed numbskull-0.1.1\n"
          ],
          "name": "stdout"
        }
      ]
    },
    {
      "cell_type": "code",
      "metadata": {
        "id": "Prngmc0W2Fxy",
        "colab_type": "code",
        "outputId": "f78197ca-f0ee-4994-aece-c53756bcaaa3",
        "colab": {
          "base_uri": "https://localhost:8080/",
          "height": 170
        }
      },
      "source": [
        "from sklearn.model_selection import train_test_split\n",
        "from collections import Counter\n",
        "from snorkel import SnorkelSession\n",
        "from snorkel.models import candidate_subclass, Context, Candidate, StableLabel\n",
        "from snorkel.contrib.models.text import RawText\n",
        "from snorkel.annotations import LabelAnnotator\n",
        "from snorkel.learning import GenerativeModel\n",
        "from snorkel.annotations import save_marginals\n",
        "from snorkel.learning.tensorflow import TextRNN"
      ],
      "execution_count": 0,
      "outputs": [
        {
          "output_type": "stream",
          "text": [
            "WARNING: Logging before flag parsing goes to stderr.\n",
            "W0626 22:13:25.730591 139903628289920 lazy_loader.py:50] \n",
            "The TensorFlow contrib module will not be included in TensorFlow 2.0.\n",
            "For more information, please see:\n",
            "  * https://github.com/tensorflow/community/blob/master/rfcs/20180907-contrib-sunset.md\n",
            "  * https://github.com/tensorflow/addons\n",
            "  * https://github.com/tensorflow/io (for I/O related ops)\n",
            "If you depend on functionality not listed there, please file an issue.\n",
            "\n"
          ],
          "name": "stderr"
        }
      ]
    },
    {
      "cell_type": "code",
      "metadata": {
        "id": "d1TWYOoI2Tnj",
        "colab_type": "code",
        "colab": {}
      },
      "source": [
        "data_dir = \"./data\"\n",
        "if not os.path.exists(data_dir):\n",
        "    os.mkdir(data_dir)\n",
        "    !curl https://data.consumerfinance.gov/api/views/s6ew-h6mp/rows.csv?accessType=DOWNLOAD > ./data/complaints.csv"
      ],
      "execution_count": 0,
      "outputs": []
    },
    {
      "cell_type": "code",
      "metadata": {
        "id": "T7govEII2gM3",
        "colab_type": "code",
        "outputId": "07d6e660-c6d5-482c-df72-759477f99162",
        "colab": {
          "base_uri": "https://localhost:8080/",
          "height": 479
        }
      },
      "source": [
        "complaints = pd.read_csv(os.path.join(data_dir,'complaints.csv'))\n",
        "complaints.info()\n",
        "complaints.shape"
      ],
      "execution_count": 0,
      "outputs": [
        {
          "output_type": "stream",
          "text": [
            "/usr/local/lib/python3.6/dist-packages/IPython/core/interactiveshell.py:2718: DtypeWarning: Columns (4,5,6,11,16) have mixed types. Specify dtype option on import or set low_memory=False.\n",
            "  interactivity=interactivity, compiler=compiler, result=result)\n"
          ],
          "name": "stderr"
        },
        {
          "output_type": "stream",
          "text": [
            "<class 'pandas.core.frame.DataFrame'>\n",
            "RangeIndex: 1317605 entries, 0 to 1317604\n",
            "Data columns (total 18 columns):\n",
            "Date received                   1317605 non-null object\n",
            "Product                         1317605 non-null object\n",
            "Sub-product                     1082439 non-null object\n",
            "Issue                           1317605 non-null object\n",
            "Sub-issue                       782150 non-null object\n",
            "Consumer complaint narrative    391144 non-null object\n",
            "Company public response         467549 non-null object\n",
            "Company                         1317605 non-null object\n",
            "State                           1296981 non-null object\n",
            "ZIP code                        1197445 non-null object\n",
            "Tags                            180333 non-null object\n",
            "Consumer consent provided?      712848 non-null object\n",
            "Submitted via                   1317605 non-null object\n",
            "Date sent to company            1317605 non-null object\n",
            "Company response to consumer    1317598 non-null object\n",
            "Timely response?                1317605 non-null object\n",
            "Consumer disputed?              768501 non-null object\n",
            "Complaint ID                    1317605 non-null int64\n",
            "dtypes: int64(1), object(17)\n",
            "memory usage: 180.9+ MB\n"
          ],
          "name": "stdout"
        },
        {
          "output_type": "execute_result",
          "data": {
            "text/plain": [
              "(1317605, 18)"
            ]
          },
          "metadata": {
            "tags": []
          },
          "execution_count": 11
        }
      ]
    },
    {
      "cell_type": "code",
      "metadata": {
        "id": "7BcTLpTu2iV-",
        "colab_type": "code",
        "colab": {}
      },
      "source": [
        "products_w_narrative = complaints[complaints['Product'].notnull() & \n",
        "                                  complaints['Consumer complaint narrative'].notnull()]"
      ],
      "execution_count": 0,
      "outputs": []
    },
    {
      "cell_type": "code",
      "metadata": {
        "id": "aswvj9bu2mJt",
        "colab_type": "code",
        "outputId": "2aa0f08d-0d2c-4934-d449-7b32642f00f5",
        "colab": {
          "base_uri": "https://localhost:8080/",
          "height": 476
        }
      },
      "source": [
        "print(products_w_narrative['Product'].unique())\n",
        "print(products_w_narrative['Product'].value_counts())"
      ],
      "execution_count": 0,
      "outputs": [
        {
          "output_type": "stream",
          "text": [
            "['Debt collection'\n",
            " 'Credit reporting, credit repair services, or other personal consumer reports'\n",
            " 'Credit card or prepaid card' 'Checking or savings account'\n",
            " 'Payday loan, title loan, or personal loan' 'Mortgage' 'Student loan'\n",
            " 'Money transfer, virtual currency, or money service'\n",
            " 'Vehicle loan or lease' 'Credit card' 'Credit reporting'\n",
            " 'Bank account or service' 'Consumer Loan' 'Money transfers'\n",
            " 'Prepaid card' 'Payday loan' 'Other financial service' 'Virtual currency']\n",
            "Credit reporting, credit repair services, or other personal consumer reports    95715\n",
            "Debt collection                                                                 88203\n",
            "Mortgage                                                                        53631\n",
            "Credit reporting                                                                31588\n",
            "Credit card or prepaid card                                                     22165\n",
            "Student loan                                                                    22148\n",
            "Credit card                                                                     18838\n",
            "Bank account or service                                                         14885\n",
            "Checking or savings account                                                     13361\n",
            "Consumer Loan                                                                    9474\n",
            "Vehicle loan or lease                                                            5926\n",
            "Money transfer, virtual currency, or money service                               5622\n",
            "Payday loan, title loan, or personal loan                                        4586\n",
            "Payday loan                                                                      1747\n",
            "Money transfers                                                                  1497\n",
            "Prepaid card                                                                     1450\n",
            "Other financial service                                                           292\n",
            "Virtual currency                                                                   16\n",
            "Name: Product, dtype: int64\n"
          ],
          "name": "stdout"
        }
      ]
    },
    {
      "cell_type": "code",
      "metadata": {
        "id": "mGAhdow-2oT2",
        "colab_type": "code",
        "colab": {}
      },
      "source": [
        "# credit reporting only\n",
        "credit_reporting = products_w_narrative[products_w_narrative['Product'] == 'Credit reporting, ' + \n",
        "                                 'credit repair services, or other personal consumer reports']\n",
        "# mortgage only\n",
        "mortgage = products_w_narrative[products_w_narrative['Product'] == 'Mortgage']"
      ],
      "execution_count": 0,
      "outputs": []
    },
    {
      "cell_type": "code",
      "metadata": {
        "id": "UT9hYjQD2qvF",
        "colab_type": "code",
        "colab": {}
      },
      "source": [
        "credit_narrative = credit_reporting['Consumer complaint narrative'].values\n",
        "positive_labels = pd.Series(np.ones(credit_narrative.shape[0]))\n",
        "positive_df = pd.DataFrame({'complaint': credit_narrative, 'label': positive_labels})"
      ],
      "execution_count": 0,
      "outputs": []
    },
    {
      "cell_type": "code",
      "metadata": {
        "id": "Ev-bLnW02skW",
        "colab_type": "code",
        "colab": {}
      },
      "source": [
        "mortgage_narrative = mortgage['Consumer complaint narrative'].values\n",
        "negative_labels = pd.Series(np.full(mortgage_narrative.shape[0], -1))\n",
        "negative_df = pd.DataFrame({'complaint': mortgage_narrative, 'label': negative_labels})"
      ],
      "execution_count": 0,
      "outputs": []
    },
    {
      "cell_type": "code",
      "metadata": {
        "id": "2ZZP4-on2ukd",
        "colab_type": "code",
        "outputId": "26505af3-2125-4072-89ef-c0b7bf71c5d2",
        "colab": {
          "base_uri": "https://localhost:8080/",
          "height": 34
        }
      },
      "source": [
        "complaints_df = pd.concat([positive_df, negative_df], ignore_index=True)\n",
        "complaints_df.shape"
      ],
      "execution_count": 0,
      "outputs": [
        {
          "output_type": "execute_result",
          "data": {
            "text/plain": [
              "(149346, 2)"
            ]
          },
          "metadata": {
            "tags": []
          },
          "execution_count": 17
        }
      ]
    },
    {
      "cell_type": "code",
      "metadata": {
        "id": "6rX87qAw2wvc",
        "colab_type": "code",
        "outputId": "375a14fb-133f-44b9-ff34-47adcae8bdf8",
        "colab": {
          "base_uri": "https://localhost:8080/",
          "height": 68
        }
      },
      "source": [
        "complaints_df['label'].value_counts()"
      ],
      "execution_count": 0,
      "outputs": [
        {
          "output_type": "execute_result",
          "data": {
            "text/plain": [
              " 1.0    95715\n",
              "-1.0    53631\n",
              "Name: label, dtype: int64"
            ]
          },
          "metadata": {
            "tags": []
          },
          "execution_count": 18
        }
      ]
    },
    {
      "cell_type": "code",
      "metadata": {
        "id": "vkY-5o7D2zFk",
        "colab_type": "code",
        "colab": {}
      },
      "source": [
        "train, testval = train_test_split(complaints_df, test_size=0.2, random_state=123)\n",
        "dev, test = train_test_split(testval, test_size=0.5, random_state=123)"
      ],
      "execution_count": 0,
      "outputs": []
    },
    {
      "cell_type": "code",
      "metadata": {
        "id": "i70mzuQ421Hr",
        "colab_type": "code",
        "colab": {}
      },
      "source": [
        "POSITIVE_WORDS = r'\\bcredit\\b|\\breport|\\baddress\\b|\\bcreditor\\b|\\bexperian\\b|\\btransunion\\b|\\bequifax\\b|\\bfcra\\b|\\bcollector\\b|\\bdebt\\b|\\bconsumer\\b'              \n",
        "POSITIVE_PHRASE = r\"\\bcredit (report|agency|reporting|bureau|agencies)\"\n",
        "NEGATIVE_WORDS = r'\\bloan\\b|\\bmortgage\\b|\\bhouse\\b|\\bhome\\b|\\bprepayment\\b|\\bappraise|\\bforeclos\\btax'\n",
        "POSITIVE_ACTIONS = r'\\bremov|\\bdispute\\b'\n",
        "NEGATIVE_ACTIONS = r'\\bpredator|\\bmodifi\\brefinanc'\n",
        "\n",
        "FRAUD = r'\\bfraudulent (account|charges)'\n",
        "MONEYXFER = r'\\bmoney transfer'\n",
        "CREDIT_REPORTING = r'\\b(identity has been compromise(|d)|data breaches|inquiries to businesses|mistakes appear in my report|reporting incorrectly|dispute(|d)|(t|T)ransunion|derogatory|experian|identity theft)'\n",
        "CREDIT_REPAIR = r'\\b(credit repair|hard inquiry|inquiries to businesses|mistakes appear in my report|reporting incorrectly)'\n"
      ],
      "execution_count": 0,
      "outputs": []
    },
    {
      "cell_type": "code",
      "metadata": {
        "id": "C0a_eu1223tT",
        "colab_type": "code",
        "colab": {}
      },
      "source": [
        "def lf_credit(complaint):\n",
        "    if re.search(POSITIVE_WORDS, str(complaint), re.IGNORECASE):\n",
        "        return 1\n",
        "    else:\n",
        "        return 0\n",
        "\n",
        "def lf_credit_phrase(complaint):\n",
        "    if re.search(POSITIVE_PHRASE, str(complaint), re.IGNORECASE):\n",
        "        return 1\n",
        "    else:\n",
        "        return 0\n",
        "\n",
        "def lf_credit_actions(complaint):\n",
        "    if re.search(POSITIVE_ACTIONS, str(complaint), re.IGNORECASE):\n",
        "        return 1\n",
        "    else:\n",
        "        return 0\n",
        "\n",
        "def lf_mortgage(complaint):\n",
        "    if re.search(NEGATIVE_WORDS, str(complaint), re.IGNORECASE):\n",
        "        return -1\n",
        "    else:\n",
        "        return 0\n",
        "\n",
        "def lf_mortgage_actions(complaint):\n",
        "    if re.search(NEGATIVE_ACTIONS, str(complaint), re.IGNORECASE):\n",
        "        return -1\n",
        "    else:\n",
        "        return 0\n",
        "    \n",
        "def lf_fraud(complaint):\n",
        "    if (re.search(FRAUD, str(complaint), re.IGNORECASE)\n",
        "        and not re.search(MONEYXFER, str(complaint), re.IGNORECASE)):\n",
        "        return 1\n",
        "    elif (re.search(FRAUD, str(complaint), re.IGNORECASE) \n",
        "          and re.search(MONEYXFER, str(complaint), re.IGNORECASE)):\n",
        "        return -1\n",
        "    else:\n",
        "        return 0\n",
        "    \n",
        "def lf_reporting(complaint):\n",
        "    if (re.search(CREDIT_REPORTING, str(complaint), re.IGNORECASE) \n",
        "        and not re.search(MONEYXFER, str(complaint), re.IGNORECASE)):\n",
        "        return 1\n",
        "    elif (re.search(CREDIT_REPORTING, str(complaint), re.IGNORECASE) \n",
        "           and re.search(MONEYXFER, str(complaint), re.IGNORECASE)):\n",
        "        return -1\n",
        "    else:\n",
        "        return 0\n",
        "    \n",
        "def lf_repair(complaint):\n",
        "    if (re.search(CREDIT_REPAIR, str(complaint), re.IGNORECASE) \n",
        "        and not re.search(MONEYXFER, str(complaint), re.IGNORECASE) \n",
        "        and not re.search(CREDIT_REPORTING, str(complaint), re.IGNORECASE)\n",
        "       ):\n",
        "        return 1\n",
        "    elif ((re.search(CREDIT_REPAIR, str(complaint), re.IGNORECASE) \n",
        "           and re.search(MONEYXFER, str(complaint), re.IGNORECASE)) \n",
        "          or \n",
        "          (re.search(CREDIT_REPAIR, str(complaint), re.IGNORECASE) \n",
        "           and re.search(CREDIT_REPORTING, str(complaint), re.IGNORECASE))\n",
        "         ):\n",
        "        return -1\n",
        "    else:\n",
        "        return 0"
      ],
      "execution_count": 0,
      "outputs": []
    },
    {
      "cell_type": "code",
      "metadata": {
        "id": "gjVSxCjz26NK",
        "colab_type": "code",
        "outputId": "d6ddc34c-89f8-4760-ee7b-f7684da841ae",
        "colab": {
          "base_uri": "https://localhost:8080/",
          "height": 51
        }
      },
      "source": [
        "session = SnorkelSession()\n",
        "\n",
        "values = list(complaints_df.label.unique())\n",
        "print(values)\n",
        "\n",
        "# snorkel candidate, value if none defaults to binary (true, false)\n",
        "Narrative = candidate_subclass('Narrative', ['narrative'], values=values)\n",
        "\n",
        "# Make sure DB is cleared\n",
        "session.query(Context).delete()\n",
        "session.query(Candidate).delete()\n",
        "session.query(StableLabel).delete()"
      ],
      "execution_count": 0,
      "outputs": [
        {
          "output_type": "stream",
          "text": [
            "[1.0, -1.0]\n"
          ],
          "name": "stdout"
        },
        {
          "output_type": "execute_result",
          "data": {
            "text/plain": [
              "0"
            ]
          },
          "metadata": {
            "tags": []
          },
          "execution_count": 23
        }
      ]
    },
    {
      "cell_type": "code",
      "metadata": {
        "id": "Jypxk-b_3BAJ",
        "colab_type": "code",
        "outputId": "8a829229-7158-4964-92e1-4c2147bbe669",
        "colab": {
          "base_uri": "https://localhost:8080/",
          "height": 34
        }
      },
      "source": [
        "train_index = train.index\n",
        "train.index.str = np.asarray(str(x) for x in train.index)\n",
        "train_complaints = train.values[:, 0]\n",
        "train_labels = train.values[:, 1]\n",
        "\n",
        "for element in zip(train_index, train_complaints, train_labels):\n",
        "    split = 0\n",
        "    raw_text = RawText(stable_id=element[0], name=element[0], text=str(element[1]))\n",
        "    narrative = Narrative(narrative=raw_text, split=split)\n",
        "    session.add(narrative)\n",
        "    context_stable_id = \"~~\".join([str(element[0]), str(element[0])])\n",
        "    session.add(StableLabel(context_stable_ids=context_stable_id, \n",
        "                            annotator_name='gold',\n",
        "                            split=0,\n",
        "                            value=element[2]))\n",
        "dev_index = dev.index\n",
        "dev.index.str = np.asarray(str(x) for x in dev.index)\n",
        "dev_complaints = dev.values[:, 0]\n",
        "dev_labels = dev.values[:, 1]\n",
        "\n",
        "for element in zip(dev_index, dev_complaints, dev_labels):\n",
        "    split = 1\n",
        "    raw_text = RawText(stable_id=element[0], name=element[0], text=str(element[1]))\n",
        "    narrative = Narrative(narrative=raw_text, split=split)\n",
        "    session.add(narrative)\n",
        "    context_stable_id = \"~~\".join([str(element[0]), str(element[0])])\n",
        "    session.add(StableLabel(context_stable_ids=context_stable_id, \n",
        "                            annotator_name='gold',\n",
        "                            split=1,\n",
        "                            value=element[2]))\n",
        "\n",
        "test_index = test.index\n",
        "test.index.str = np.asarray(str(x) for x in test.index)\n",
        "test_complaints = test.values[:, 0]\n",
        "test_labels = test.values[:, 1]\n",
        "\n",
        "for element in zip(test_index, test_complaints, test_labels):\n",
        "    split = 2\n",
        "    raw_text = RawText(stable_id=element[0], name=element[0], text=str(element[1]))\n",
        "    narrative = Narrative(narrative=raw_text, split=split)\n",
        "    session.add(narrative)\n",
        "    context_stable_id = \"~~\".join([str(element[0]), str(element[0])])\n",
        "    session.add(StableLabel(context_stable_ids=context_stable_id, \n",
        "                            annotator_name='gold',\n",
        "                            split=2,\n",
        "                            value=element[2]))\n",
        "\n",
        "session.commit()\n",
        "\n",
        "# number of datapoints\n",
        "print(session.query(Narrative).count())\n",
        "# load ground truth labels\n",
        "train_cand_labels = train_labels\n",
        "dev_cand_labels = dev_labels\n",
        "test_cand_labels = test_labels"
      ],
      "execution_count": 0,
      "outputs": [
        {
          "output_type": "stream",
          "text": [
            "149346\n"
          ],
          "name": "stdout"
        }
      ]
    },
    {
      "cell_type": "code",
      "metadata": {
        "id": "8--icqpq3JuM",
        "colab_type": "code",
        "outputId": "33b5065f-5ef9-4da1-eb5e-a955ee8413e8",
        "colab": {
          "base_uri": "https://localhost:8080/",
          "height": 34
        }
      },
      "source": [
        "# test one labeling function\n",
        "labeled = []\n",
        "for c in session.query(Narrative).filter(Narrative.split == 1).all():\n",
        "    if lf_credit(c) != 0:\n",
        "        labeled.append(c)\n",
        "print(\"Number labeled:\", len(labeled))"
      ],
      "execution_count": 0,
      "outputs": [
        {
          "output_type": "stream",
          "text": [
            "Number labeled: 11252\n"
          ],
          "name": "stdout"
        }
      ]
    },
    {
      "cell_type": "code",
      "metadata": {
        "id": "pQnhzeaf3nrt",
        "colab_type": "code",
        "outputId": "5e6b6942-25c2-4e60-d6c5-854dedb1bf63",
        "colab": {
          "base_uri": "https://localhost:8080/",
          "height": 68
        }
      },
      "source": [
        "LFs = [lf_credit, lf_credit_phrase, lf_credit_actions, lf_mortgage, lf_mortgage_actions, lf_fraud, lf_reporting, lf_repair]\n",
        "# apply labeling functions\n",
        "labeler = LabelAnnotator(lfs = LFs)\n",
        "L_train = labeler.apply(split=0)"
      ],
      "execution_count": 0,
      "outputs": [
        {
          "output_type": "stream",
          "text": [
            "  0%|          | 24/119476 [00:00<08:19, 239.04it/s]"
          ],
          "name": "stderr"
        },
        {
          "output_type": "stream",
          "text": [
            "Clearing existing...\n",
            "Running UDF...\n"
          ],
          "name": "stdout"
        },
        {
          "output_type": "stream",
          "text": [
            "100%|██████████| 119476/119476 [08:02<00:00, 247.75it/s]\n"
          ],
          "name": "stderr"
        }
      ]
    },
    {
      "cell_type": "code",
      "metadata": {
        "id": "fCtH_AV-3scM",
        "colab_type": "code",
        "outputId": "3bfae851-0944-4720-9454-e91c6b2a6b7e",
        "colab": {
          "base_uri": "https://localhost:8080/",
          "height": 224
        }
      },
      "source": [
        "# see what's going on\n",
        "print(L_train.get_candidate(session, 0))\n",
        "print(L_train.get_key(session, 0))\n",
        "print(L_train.lf_stats(session))\n"
      ],
      "execution_count": 0,
      "outputs": [
        {
          "output_type": "stream",
          "text": [
            "Narrative(Raw Text On XX/XX/2017, I spoke with Wells Fargo Mortgage XXXX XXXX XXXX XXXX ext. XXXX regarding my additional principal payments being intentionally delayed ( and held in \" unapplied funds '' by Wells Fargo ) due to their systems limitations, despite clearly indicated markings in writing ( and online ) showing the funds are intended as Additional Principal Payments or Principal Payments. I have had multiple experiences in the past year where my additional principal payments have been wrongfully held in \" unapplied '' status, despite these payments being clearly marked in writing as \" Principal Payments '' or \" Additional Principal Payments ''. The aggregate of these wrongful delays in applying principal payments over the length of my 30 year mortgage could result in thousands of dollars of profit to Wells Fargo in the form of accruing interest. In filing my complaint, Wells Fargo Mortgage was dismissive of my complaint, while defending their payments systems inability to accept multiple principal payments in one day. Wells Fargo Mortgage also admitted that while my principal payments are in \" unapplied funds '' status, that I do not earn any interest on those \" unapplied funds. '')\n",
            "LabelKey (lf_credit)\n",
            "                     j  Coverage  Overlaps  Conflicts\n",
            "lf_credit            0  0.752578  0.675475   0.273720\n",
            "lf_credit_phrase     1  0.438339  0.438339   0.128511\n",
            "lf_credit_actions    2  0.328443  0.322316   0.098614\n",
            "lf_mortgage          3  0.454535  0.281471   0.277219\n",
            "lf_mortgage_actions  4  0.011709  0.011592   0.007340\n",
            "lf_fraud             5  0.020423  0.020155   0.003122\n",
            "lf_reporting         6  0.324534  0.321512   0.087122\n",
            "lf_repair            7  0.027972  0.027378   0.018975\n"
          ],
          "name": "stdout"
        }
      ]
    },
    {
      "cell_type": "code",
      "metadata": {
        "id": "Bbo3wzLj5ukd",
        "colab_type": "code",
        "outputId": "3343eb79-a809-4e87-8ed3-fdab9c13461d",
        "colab": {
          "base_uri": "https://localhost:8080/",
          "height": 34
        }
      },
      "source": [
        "gen_model = GenerativeModel()\n",
        "gen_model.train(L_train, epochs=20, decay=0.95, step_size=0.1/L_train.shape[0], reg_param=1e-6)"
      ],
      "execution_count": 0,
      "outputs": [
        {
          "output_type": "stream",
          "text": [
            "Inferred cardinality: 2\n"
          ],
          "name": "stdout"
        }
      ]
    },
    {
      "cell_type": "code",
      "metadata": {
        "id": "t7-pU4eS5_Na",
        "colab_type": "code",
        "outputId": "6608445f-95ce-4028-aca9-9a76757f4dae",
        "colab": {
          "base_uri": "https://localhost:8080/",
          "height": 269
        }
      },
      "source": [
        "train_marginals = gen_model.marginals(L_train)\n",
        "plt.hist(train_marginals, bins=20)\n",
        "plt.show()"
      ],
      "execution_count": 0,
      "outputs": [
        {
          "output_type": "display_data",
          "data": {
            "image/png": "[encoded data removed]",
            "text/plain": [
              "<Figure size 432x288 with 1 Axes>"
            ]
          },
          "metadata": {
            "tags": []
          }
        }
      ]
    },
    {
      "cell_type": "code",
      "metadata": {
        "id": "Wu6pQmGf8a60",
        "colab_type": "code",
        "outputId": "81ed1b37-52d5-4497-d670-0a02dab9b580",
        "colab": {
          "base_uri": "https://localhost:8080/",
          "height": 34
        }
      },
      "source": [
        "accuracy = gen_model.score(L_train, train_cand_labels)\n",
        "accuracy[0]\n",
        "print(\"precision: {:.5f}\".format(accuracy[0]), \"recall: {:.5f}\".format(accuracy[1]), \n",
        "      \"F-beta: {:.5f}\".format(accuracy[2]))"
      ],
      "execution_count": 0,
      "outputs": [
        {
          "output_type": "stream",
          "text": [
            "precision: 0.64852 recall: 0.96839 F-beta: 0.77681\n"
          ],
          "name": "stdout"
        }
      ]
    },
    {
      "cell_type": "code",
      "metadata": {
        "id": "jAHOrwAi8wia",
        "colab_type": "code",
        "outputId": "2016bbda-dfcb-4a21-9ae3-865791cbc8b5",
        "colab": {
          "base_uri": "https://localhost:8080/",
          "height": 68
        }
      },
      "source": [
        "# Collect the majority vote answer for each complaint\n",
        "mv = []\n",
        "for i in range(L_train.shape[0]):\n",
        "    if np.diff(L_train[i].indptr) != 0:   #indicates that there is no coverage for a particular datapoint\n",
        "        c = Counter([L_train[i,j] for j in L_train[i].nonzero()[1]])\n",
        "        #print(c)\n",
        "        mv.append(c.most_common(1)[0][0])\n",
        "        #print(c.most_common(1)[0][0])\n",
        "    else:\n",
        "        mv.append(-1) # assume that no label is equivalent to a negative example\n",
        "\n",
        "mv = np.array(mv)\n",
        "\n",
        "# Count the number correct by majority vote\n",
        "n_correct = np.sum([1 for i in range(L_train.shape[0]) if mv[i] == train_cand_labels[i]])\n",
        "print (\"Accuracy:{}\".format(n_correct / float(L_train.shape[0])))\n",
        "print (\"Number incorrect:{}\".format(L_train.shape[0] - n_correct))\n",
        "\n",
        "# Compute and return precision, recall, and F1 score\n",
        "tp = (0.5 * (mv * train_cand_labels + 1))[mv == 1].sum()\n",
        "pred_pos = mv[mv == 1].sum()\n",
        "p = tp / float(pred_pos) if pred_pos > 0 else 0.0\n",
        "pos = train_cand_labels[train_cand_labels == 1].sum()\n",
        "r = tp / float(pos) if pos > 0 else 0.0\n",
        "\n",
        "# Compute general F-beta score\n",
        "beta=1\n",
        "if p + r > 0:\n",
        "    f_beta = (1 + beta**2) * ((p * r) / (((beta**2) * p) + r))\n",
        "else:\n",
        "    f_beta = 0.0\n",
        "p, r, f_beta\n",
        "print(\"precision: {:.5f}\".format(p), \"recall: {:.5f}\".format(r), \"F-beta: {:.5f}\".format(f_beta))\n"
      ],
      "execution_count": 0,
      "outputs": [
        {
          "output_type": "stream",
          "text": [
            "Accuracy:0.8144564598747865\n",
            "Number incorrect:22168\n",
            "precision: 0.79259 recall: 0.96212 F-beta: 0.86916\n"
          ],
          "name": "stdout"
        }
      ]
    },
    {
      "cell_type": "code",
      "metadata": {
        "id": "SFUbHlys9M4x",
        "colab_type": "code",
        "outputId": "8fbd2d83-4c23-4ed9-d52a-0ab26a69ef55",
        "colab": {
          "base_uri": "https://localhost:8080/",
          "height": 272
        }
      },
      "source": [
        "L_dev = labeler.apply(split=1)\n",
        "# score it\n",
        "tp, fp, tn, fn = gen_model.error_analysis(session, L_dev, dev_cand_labels)"
      ],
      "execution_count": 0,
      "outputs": [
        {
          "output_type": "stream",
          "text": [
            "Clearing existing...\n"
          ],
          "name": "stdout"
        },
        {
          "output_type": "stream",
          "text": [
            "  0%|          | 26/14935 [00:00<00:58, 256.27it/s]"
          ],
          "name": "stderr"
        },
        {
          "output_type": "stream",
          "text": [
            "Running UDF...\n"
          ],
          "name": "stdout"
        },
        {
          "output_type": "stream",
          "text": [
            "100%|██████████| 14935/14935 [00:59<00:00, 251.10it/s]\n"
          ],
          "name": "stderr"
        },
        {
          "output_type": "stream",
          "text": [
            "========================================\n",
            "Scores (Un-adjusted)\n",
            "========================================\n",
            "Pos. class accuracy: 0.971\n",
            "Neg. class accuracy: 0.0662\n",
            "Precision            0.646\n",
            "Recall               0.971\n",
            "F1                   0.776\n",
            "----------------------------------------\n",
            "TP: 9236 | FP: 5060 | TN: 359 | FN: 280\n",
            "========================================\n",
            "\n"
          ],
          "name": "stdout"
        }
      ]
    },
    {
      "cell_type": "code",
      "metadata": {
        "id": "8yNNLBQ89vVZ",
        "colab_type": "code",
        "outputId": "f6f02973-3833-43e6-bb4c-83fa8f2538cc",
        "colab": {
          "base_uri": "https://localhost:8080/",
          "height": 34
        }
      },
      "source": [
        "save_marginals(session, L_train, train_marginals)"
      ],
      "execution_count": 0,
      "outputs": [
        {
          "output_type": "stream",
          "text": [
            "Saved 119476 marginals\n"
          ],
          "name": "stdout"
        }
      ]
    },
    {
      "cell_type": "code",
      "metadata": {
        "id": "PO3eCdQp924i",
        "colab_type": "code",
        "colab": {}
      },
      "source": [
        "train_cands = session.query(Narrative).filter(Narrative.split == 0).order_by(Narrative.id).all()\n",
        "dev_cands   = session.query(Narrative).filter(Narrative.split == 1).order_by(Narrative.id).all()\n",
        "test_cands  = session.query(Narrative).filter(Narrative.split == 2).order_by(Narrative.id).all()\n"
      ],
      "execution_count": 0,
      "outputs": []
    },
    {
      "cell_type": "code",
      "metadata": {
        "id": "zvoqgKfq932D",
        "colab_type": "code",
        "colab": {}
      },
      "source": [
        "train_kwargs = {\n",
        "    'lr':         0.01,\n",
        "    'dim':        100,\n",
        "    'n_epochs':   10,\n",
        "    'dropout':    0.2,\n",
        "    'print_freq': 5,\n",
        "    'seed': 123,\n",
        "    'batch_size': 10\n",
        "}\n",
        "\n",
        "lstm = TextRNN(seed=123, cardinality=Narrative.cardinality)\n",
        "# Note: Y_train are the marginals but Y_dev are the gold/ ground truth labels\n",
        "lstm.train(X_train=train_cands, Y_train=train_marginals, X_dev=dev_cands, Y_dev=dev_cand_labels, **train_kwargs)"
      ],
      "execution_count": 0,
      "outputs": []
    },
    {
      "cell_type": "code",
      "metadata": {
        "id": "sZBYLyyW-LdP",
        "colab_type": "code",
        "colab": {}
      },
      "source": [
        "accuracy_dev = lstm.score(dev_cands, dev_cand_labels)\n",
        "print(\"precision: {:.5f}\".format(accuracy_dev[0]), \"recall: {:.5f}\".format(accuracy_dev[1]), \n",
        "      \"F-beta: {:.5f}\".format(accuracy_dev[2]))"
      ],
      "execution_count": 0,
      "outputs": []
    },
    {
      "cell_type": "code",
      "metadata": {
        "id": "TlC3vfgA-Nse",
        "colab_type": "code",
        "colab": {}
      },
      "source": [
        "accuracy_test = lstm.score(test_cands, test_cand_labels)\n",
        "print(\"precision: {:.5f}\".format(accuracy_test[0]), \"recall: {:.5f}\".format(accuracy_test[1]), \n",
        "      \"F-beta: {:.5f}\".format(accuracy_test[2]))"
      ],
      "execution_count": 0,
      "outputs": []
    }
  ]
}