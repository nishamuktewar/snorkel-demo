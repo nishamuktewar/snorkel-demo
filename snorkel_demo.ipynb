{
  "nbformat": 4,
  "nbformat_minor": 0,
  "metadata": {
    "colab": {
      "name": "snorkel-demo.ipynb",
      "version": "0.3.2",
      "provenance": [],
      "collapsed_sections": [],
      "include_colab_link": true
    },
    "kernelspec": {
      "name": "python3",
      "display_name": "Python 3"
    },
    "accelerator": "GPU"
  },
  "cells": [
    {
      "cell_type": "markdown",
      "metadata": {
        "id": "view-in-github",
        "colab_type": "text"
      },
      "source": [
        "<a href=\"https://colab.research.google.com/github/nishamuktewar/test/blob/master/snorkel_demo.ipynb\" target=\"_parent\"><img src=\"https://colab.research.google.com/assets/colab-badge.svg\" alt=\"Open In Colab\"/></a>"
      ]
    },
    {
      "cell_type": "code",
      "metadata": {
        "id": "Q40cmhf21u79",
        "colab_type": "code",
        "colab": {}
      },
      "source": [
        "#!pip3 install -r requirements.txt"
      ],
      "execution_count": 0,
      "outputs": []
    },
    {
      "cell_type": "code",
      "metadata": {
        "id": "CwylKnyV1xH-",
        "colab_type": "code",
        "colab": {}
      },
      "source": [
        "#!pip3 install git+https://github.com/HazyResearch/snorkel"
      ],
      "execution_count": 0,
      "outputs": []
    },
    {
      "cell_type": "code",
      "metadata": {
        "id": "pyPnpQ6t1-D-",
        "colab_type": "code",
        "colab": {}
      },
      "source": [
        "%load_ext autoreload\n",
        "%autoreload 2"
      ],
      "execution_count": 0,
      "outputs": []
    },
    {
      "cell_type": "code",
      "metadata": {
        "id": "EnphVByC2D4w",
        "colab_type": "code",
        "colab": {}
      },
      "source": [
        "import pandas as pd\n",
        "import numpy as np\n",
        "import matplotlib.pyplot as plt\n",
        "import re\n",
        "import sklearn\n",
        "import os"
      ],
      "execution_count": 0,
      "outputs": []
    },
    {
      "cell_type": "code",
      "metadata": {
        "id": "CMgHSV-a2JGw",
        "colab_type": "code",
        "colab": {}
      },
      "source": [
        "#!pip3 install treedlib"
      ],
      "execution_count": 0,
      "outputs": []
    },
    {
      "cell_type": "code",
      "metadata": {
        "id": "quOwouvn2WAK",
        "colab_type": "code",
        "colab": {}
      },
      "source": [
        "#!pip3 install numbskull"
      ],
      "execution_count": 0,
      "outputs": []
    },
    {
      "cell_type": "code",
      "metadata": {
        "id": "Prngmc0W2Fxy",
        "colab_type": "code",
        "outputId": "71e104b6-e777-4ed0-ef15-ea37a0163aab",
        "colab": {
          "base_uri": "https://localhost:8080/",
          "height": 170
        }
      },
      "source": [
        "from sklearn.model_selection import train_test_split\n",
        "from collections import Counter\n",
        "from snorkel import SnorkelSession\n",
        "from snorkel.models import candidate_subclass, Context, Candidate, StableLabel\n",
        "from snorkel.contrib.models.text import RawText\n",
        "from snorkel.annotations import LabelAnnotator\n",
        "from snorkel.learning import GenerativeModel\n",
        "from snorkel.annotations import save_marginals\n",
        "from snorkel.learning.tensorflow import TextRNN"
      ],
      "execution_count": 7,
      "outputs": [
        {
          "output_type": "stream",
          "text": [
            "WARNING: Logging before flag parsing goes to stderr.\n",
            "W0627 19:08:24.785825 140433655945088 lazy_loader.py:50] \n",
            "The TensorFlow contrib module will not be included in TensorFlow 2.0.\n",
            "For more information, please see:\n",
            "  * https://github.com/tensorflow/community/blob/master/rfcs/20180907-contrib-sunset.md\n",
            "  * https://github.com/tensorflow/addons\n",
            "  * https://github.com/tensorflow/io (for I/O related ops)\n",
            "If you depend on functionality not listed there, please file an issue.\n",
            "\n"
          ],
          "name": "stderr"
        }
      ]
    },
    {
      "cell_type": "code",
      "metadata": {
        "id": "d1TWYOoI2Tnj",
        "colab_type": "code",
        "colab": {}
      },
      "source": [
        "data_dir = \"./data\"\n",
        "if not os.path.exists(data_dir):\n",
        "    os.mkdir(data_dir)\n",
        "    !curl https://data.consumerfinance.gov/api/views/s6ew-h6mp/rows.csv?accessType=DOWNLOAD > ./data/complaints.csv"
      ],
      "execution_count": 0,
      "outputs": []
    },
    {
      "cell_type": "code",
      "metadata": {
        "id": "T7govEII2gM3",
        "colab_type": "code",
        "outputId": "d716636b-bc5f-4dd3-dadc-8bcc7a940800",
        "colab": {
          "base_uri": "https://localhost:8080/",
          "height": 479
        }
      },
      "source": [
        "complaints = pd.read_csv(os.path.join(data_dir,'complaints.csv'))\n",
        "complaints.info()\n",
        "complaints.shape"
      ],
      "execution_count": 9,
      "outputs": [
        {
          "output_type": "stream",
          "text": [
            "/usr/local/lib/python3.6/dist-packages/IPython/core/interactiveshell.py:2718: DtypeWarning: Columns (4,5,6,11,16) have mixed types. Specify dtype option on import or set low_memory=False.\n",
            "  interactivity=interactivity, compiler=compiler, result=result)\n"
          ],
          "name": "stderr"
        },
        {
          "output_type": "stream",
          "text": [
            "<class 'pandas.core.frame.DataFrame'>\n",
            "RangeIndex: 1318982 entries, 0 to 1318981\n",
            "Data columns (total 18 columns):\n",
            "Date received                   1318982 non-null object\n",
            "Product                         1318982 non-null object\n",
            "Sub-product                     1083816 non-null object\n",
            "Issue                           1318982 non-null object\n",
            "Sub-issue                       783385 non-null object\n",
            "Consumer complaint narrative    391465 non-null object\n",
            "Company public response         468379 non-null object\n",
            "Company                         1318982 non-null object\n",
            "State                           1298328 non-null object\n",
            "ZIP code                        1198657 non-null object\n",
            "Tags                            180500 non-null object\n",
            "Consumer consent provided?      713360 non-null object\n",
            "Submitted via                   1318982 non-null object\n",
            "Date sent to company            1318982 non-null object\n",
            "Company response to consumer    1318975 non-null object\n",
            "Timely response?                1318982 non-null object\n",
            "Consumer disputed?              768501 non-null object\n",
            "Complaint ID                    1318982 non-null int64\n",
            "dtypes: int64(1), object(17)\n",
            "memory usage: 181.1+ MB\n"
          ],
          "name": "stdout"
        },
        {
          "output_type": "execute_result",
          "data": {
            "text/plain": [
              "(1318982, 18)"
            ]
          },
          "metadata": {
            "tags": []
          },
          "execution_count": 9
        }
      ]
    },
    {
      "cell_type": "code",
      "metadata": {
        "id": "7BcTLpTu2iV-",
        "colab_type": "code",
        "colab": {}
      },
      "source": [
        "products_w_narrative = complaints[complaints['Product'].notnull() & \n",
        "                                  complaints['Consumer complaint narrative'].notnull()]"
      ],
      "execution_count": 0,
      "outputs": []
    },
    {
      "cell_type": "code",
      "metadata": {
        "id": "aswvj9bu2mJt",
        "colab_type": "code",
        "outputId": "f33087a8-d284-40d1-a09b-de75c85b5570",
        "colab": {
          "base_uri": "https://localhost:8080/",
          "height": 493
        }
      },
      "source": [
        "print(products_w_narrative['Product'].unique())\n",
        "print(products_w_narrative['Product'].value_counts())"
      ],
      "execution_count": 11,
      "outputs": [
        {
          "output_type": "stream",
          "text": [
            "['Debt collection'\n",
            " 'Credit reporting, credit repair services, or other personal consumer reports'\n",
            " 'Credit card or prepaid card' 'Checking or savings account'\n",
            " 'Vehicle loan or lease' 'Student loan'\n",
            " 'Payday loan, title loan, or personal loan' 'Mortgage'\n",
            " 'Money transfer, virtual currency, or money service' 'Credit reporting'\n",
            " 'Credit card' 'Bank account or service' 'Consumer Loan' 'Prepaid card'\n",
            " 'Money transfers' 'Payday loan' 'Other financial service'\n",
            " 'Virtual currency']\n",
            "Credit reporting, credit repair services, or other personal consumer reports    95835\n",
            "Debt collection                                                                 88284\n",
            "Mortgage                                                                        53652\n",
            "Credit reporting                                                                31588\n",
            "Credit card or prepaid card                                                     22208\n",
            "Student loan                                                                    22161\n",
            "Credit card                                                                     18838\n",
            "Bank account or service                                                         14885\n",
            "Checking or savings account                                                     13379\n",
            "Consumer Loan                                                                    9474\n",
            "Vehicle loan or lease                                                            5934\n",
            "Money transfer, virtual currency, or money service                               5632\n",
            "Payday loan, title loan, or personal loan                                        4593\n",
            "Payday loan                                                                      1747\n",
            "Money transfers                                                                  1497\n",
            "Prepaid card                                                                     1450\n",
            "Other financial service                                                           292\n",
            "Virtual currency                                                                   16\n",
            "Name: Product, dtype: int64\n"
          ],
          "name": "stdout"
        }
      ]
    },
    {
      "cell_type": "code",
      "metadata": {
        "id": "mGAhdow-2oT2",
        "colab_type": "code",
        "colab": {}
      },
      "source": [
        "# credit reporting only\n",
        "credit_reporting = products_w_narrative[products_w_narrative['Product'] == 'Credit reporting, ' + \n",
        "                                 'credit repair services, or other personal consumer reports']\n",
        "# mortgage only\n",
        "mortgage = products_w_narrative[products_w_narrative['Product'] == 'Mortgage']"
      ],
      "execution_count": 0,
      "outputs": []
    },
    {
      "cell_type": "code",
      "metadata": {
        "id": "UT9hYjQD2qvF",
        "colab_type": "code",
        "colab": {}
      },
      "source": [
        "credit_narrative = credit_reporting['Consumer complaint narrative'].values\n",
        "positive_labels = pd.Series(np.ones(credit_narrative.shape[0]))\n",
        "positive_df = pd.DataFrame({'complaint': credit_narrative, 'label': positive_labels})"
      ],
      "execution_count": 0,
      "outputs": []
    },
    {
      "cell_type": "code",
      "metadata": {
        "id": "Ev-bLnW02skW",
        "colab_type": "code",
        "colab": {}
      },
      "source": [
        "mortgage_narrative = mortgage['Consumer complaint narrative'].values\n",
        "negative_labels = pd.Series(np.full(mortgage_narrative.shape[0], -1))\n",
        "negative_df = pd.DataFrame({'complaint': mortgage_narrative, 'label': negative_labels})"
      ],
      "execution_count": 0,
      "outputs": []
    },
    {
      "cell_type": "code",
      "metadata": {
        "id": "2ZZP4-on2ukd",
        "colab_type": "code",
        "outputId": "a350380c-308d-4d7c-c696-7c61d989d938",
        "colab": {
          "base_uri": "https://localhost:8080/",
          "height": 34
        }
      },
      "source": [
        "complaints_df = pd.concat([positive_df, negative_df], ignore_index=True)\n",
        "complaints_df.shape"
      ],
      "execution_count": 15,
      "outputs": [
        {
          "output_type": "execute_result",
          "data": {
            "text/plain": [
              "(149487, 2)"
            ]
          },
          "metadata": {
            "tags": []
          },
          "execution_count": 15
        }
      ]
    },
    {
      "cell_type": "code",
      "metadata": {
        "id": "6rX87qAw2wvc",
        "colab_type": "code",
        "outputId": "02bb8285-2283-44a8-bafc-dd2136095ed4",
        "colab": {
          "base_uri": "https://localhost:8080/",
          "height": 68
        }
      },
      "source": [
        "complaints_df['label'].value_counts()"
      ],
      "execution_count": 16,
      "outputs": [
        {
          "output_type": "execute_result",
          "data": {
            "text/plain": [
              " 1.0    95835\n",
              "-1.0    53652\n",
              "Name: label, dtype: int64"
            ]
          },
          "metadata": {
            "tags": []
          },
          "execution_count": 16
        }
      ]
    },
    {
      "cell_type": "code",
      "metadata": {
        "id": "J2gAHJ0WVJU4",
        "colab_type": "code",
        "colab": {
          "base_uri": "https://localhost:8080/",
          "height": 68
        },
        "outputId": "3c795421-e308-4d91-d9bc-02934fe31a65"
      },
      "source": [
        "complaints_df = complaints_df.take(np.random.permutation(len(complaints_df))[:5000])\n",
        "complaints_df['label'].value_counts()"
      ],
      "execution_count": 17,
      "outputs": [
        {
          "output_type": "execute_result",
          "data": {
            "text/plain": [
              " 1.0    3188\n",
              "-1.0    1812\n",
              "Name: label, dtype: int64"
            ]
          },
          "metadata": {
            "tags": []
          },
          "execution_count": 17
        }
      ]
    },
    {
      "cell_type": "code",
      "metadata": {
        "id": "vkY-5o7D2zFk",
        "colab_type": "code",
        "colab": {}
      },
      "source": [
        "train, testval = train_test_split(complaints_df, test_size=0.2, random_state=123)\n",
        "dev, test = train_test_split(testval, test_size=0.5, random_state=123)"
      ],
      "execution_count": 0,
      "outputs": []
    },
    {
      "cell_type": "code",
      "metadata": {
        "id": "i70mzuQ421Hr",
        "colab_type": "code",
        "colab": {}
      },
      "source": [
        "POSITIVE_WORDS = r'\\bcredit\\b|\\breport|\\baddress\\b|\\bcreditor\\b|\\bexperian\\b|\\btransunion\\b|\\bequifax\\b|\\bfcra\\b|\\bcollector\\b|\\bdebt\\b|\\bconsumer\\b'              \n",
        "POSITIVE_PHRASE = r\"\\bcredit (report|agency|reporting|bureau|agencies)\"\n",
        "NEGATIVE_WORDS = r'\\bloan\\b|\\bmortgage\\b|\\bhouse\\b|\\bhome\\b|\\bprepayment\\b|\\bappraise|\\bforeclos\\btax'\n",
        "POSITIVE_ACTIONS = r'\\bremov|\\bdispute\\b'\n",
        "NEGATIVE_ACTIONS = r'\\bpredator|\\bmodifi\\brefinanc'\n",
        "\n",
        "FRAUD = r'\\bfraudulent (account|charges)'\n",
        "MONEYXFER = r'\\bmoney transfer'\n",
        "CREDIT_REPORTING = r'\\b(identity has been compromise(|d)|data breaches|inquiries to businesses|mistakes appear in my report|reporting incorrectly|dispute(|d)|(t|T)ransunion|derogatory|experian|identity theft)'\n",
        "CREDIT_REPAIR = r'\\b(credit repair|hard inquiry|inquiries to businesses|mistakes appear in my report|reporting incorrectly)'\n"
      ],
      "execution_count": 0,
      "outputs": []
    },
    {
      "cell_type": "code",
      "metadata": {
        "id": "C0a_eu1223tT",
        "colab_type": "code",
        "colab": {}
      },
      "source": [
        "def lf_credit(complaint):\n",
        "    if re.search(POSITIVE_WORDS, str(complaint), re.IGNORECASE):\n",
        "        return 1\n",
        "    else:\n",
        "        return 0\n",
        "\n",
        "def lf_credit_phrase(complaint):\n",
        "    if re.search(POSITIVE_PHRASE, str(complaint), re.IGNORECASE):\n",
        "        return 1\n",
        "    else:\n",
        "        return 0\n",
        "\n",
        "def lf_credit_actions(complaint):\n",
        "    if re.search(POSITIVE_ACTIONS, str(complaint), re.IGNORECASE):\n",
        "        return 1\n",
        "    else:\n",
        "        return 0\n",
        "\n",
        "def lf_mortgage(complaint):\n",
        "    if re.search(NEGATIVE_WORDS, str(complaint), re.IGNORECASE):\n",
        "        return -1\n",
        "    else:\n",
        "        return 0\n",
        "\n",
        "def lf_mortgage_actions(complaint):\n",
        "    if re.search(NEGATIVE_ACTIONS, str(complaint), re.IGNORECASE):\n",
        "        return -1\n",
        "    else:\n",
        "        return 0\n",
        "    \n",
        "def lf_fraud(complaint):\n",
        "    if (re.search(FRAUD, str(complaint), re.IGNORECASE)\n",
        "        and not re.search(MONEYXFER, str(complaint), re.IGNORECASE)):\n",
        "        return 1\n",
        "    elif (re.search(FRAUD, str(complaint), re.IGNORECASE) \n",
        "          and re.search(MONEYXFER, str(complaint), re.IGNORECASE)):\n",
        "        return -1\n",
        "    else:\n",
        "        return 0\n",
        "    \n",
        "def lf_reporting(complaint):\n",
        "    if (re.search(CREDIT_REPORTING, str(complaint), re.IGNORECASE) \n",
        "        and not re.search(MONEYXFER, str(complaint), re.IGNORECASE)):\n",
        "        return 1\n",
        "    elif (re.search(CREDIT_REPORTING, str(complaint), re.IGNORECASE) \n",
        "           and re.search(MONEYXFER, str(complaint), re.IGNORECASE)):\n",
        "        return -1\n",
        "    else:\n",
        "        return 0\n",
        "    \n",
        "def lf_repair(complaint):\n",
        "    if (re.search(CREDIT_REPAIR, str(complaint), re.IGNORECASE) \n",
        "        and not re.search(MONEYXFER, str(complaint), re.IGNORECASE) \n",
        "        and not re.search(CREDIT_REPORTING, str(complaint), re.IGNORECASE)\n",
        "       ):\n",
        "        return 1\n",
        "    elif ((re.search(CREDIT_REPAIR, str(complaint), re.IGNORECASE) \n",
        "           and re.search(MONEYXFER, str(complaint), re.IGNORECASE)) \n",
        "          or \n",
        "          (re.search(CREDIT_REPAIR, str(complaint), re.IGNORECASE) \n",
        "           and re.search(CREDIT_REPORTING, str(complaint), re.IGNORECASE))\n",
        "         ):\n",
        "        return -1\n",
        "    else:\n",
        "        return 0"
      ],
      "execution_count": 0,
      "outputs": []
    },
    {
      "cell_type": "code",
      "metadata": {
        "id": "gjVSxCjz26NK",
        "colab_type": "code",
        "outputId": "d253c05b-b8e9-48d4-bbb0-158442a5c335",
        "colab": {
          "base_uri": "https://localhost:8080/",
          "height": 51
        }
      },
      "source": [
        "session = SnorkelSession()\n",
        "\n",
        "values = list(complaints_df.label.unique())\n",
        "print(values)\n",
        "\n",
        "# snorkel candidate, value if none defaults to binary (true, false)\n",
        "Narrative = candidate_subclass('Narrative', ['narrative'], values=values)\n",
        "\n",
        "# Make sure DB is cleared\n",
        "session.query(Context).delete()\n",
        "session.query(Candidate).delete()\n",
        "session.query(StableLabel).delete()"
      ],
      "execution_count": 21,
      "outputs": [
        {
          "output_type": "stream",
          "text": [
            "[1.0, -1.0]\n"
          ],
          "name": "stdout"
        },
        {
          "output_type": "execute_result",
          "data": {
            "text/plain": [
              "149487"
            ]
          },
          "metadata": {
            "tags": []
          },
          "execution_count": 21
        }
      ]
    },
    {
      "cell_type": "code",
      "metadata": {
        "id": "Jypxk-b_3BAJ",
        "colab_type": "code",
        "outputId": "48196ea3-1e91-4fc2-e494-1307e252219f",
        "colab": {
          "base_uri": "https://localhost:8080/",
          "height": 34
        }
      },
      "source": [
        "train_index = train.index\n",
        "train.index.str = np.asarray(str(x) for x in train.index)\n",
        "train_complaints = train.values[:, 0]\n",
        "train_labels = train.values[:, 1]\n",
        "\n",
        "for element in zip(train_index, train_complaints, train_labels):\n",
        "    split = 0\n",
        "    raw_text = RawText(stable_id=element[0], name=element[0], text=str(element[1]))\n",
        "    narrative = Narrative(narrative=raw_text, split=split)\n",
        "    session.add(narrative)\n",
        "    context_stable_id = \"~~\".join([str(element[0]), str(element[0])])\n",
        "    session.add(StableLabel(context_stable_ids=context_stable_id, \n",
        "                            annotator_name='gold',\n",
        "                            split=0,\n",
        "                            value=element[2]))\n",
        "dev_index = dev.index\n",
        "dev.index.str = np.asarray(str(x) for x in dev.index)\n",
        "dev_complaints = dev.values[:, 0]\n",
        "dev_labels = dev.values[:, 1]\n",
        "\n",
        "for element in zip(dev_index, dev_complaints, dev_labels):\n",
        "    split = 1\n",
        "    raw_text = RawText(stable_id=element[0], name=element[0], text=str(element[1]))\n",
        "    narrative = Narrative(narrative=raw_text, split=split)\n",
        "    session.add(narrative)\n",
        "    context_stable_id = \"~~\".join([str(element[0]), str(element[0])])\n",
        "    session.add(StableLabel(context_stable_ids=context_stable_id, \n",
        "                            annotator_name='gold',\n",
        "                            split=1,\n",
        "                            value=element[2]))\n",
        "\n",
        "test_index = test.index\n",
        "test.index.str = np.asarray(str(x) for x in test.index)\n",
        "test_complaints = test.values[:, 0]\n",
        "test_labels = test.values[:, 1]\n",
        "\n",
        "for element in zip(test_index, test_complaints, test_labels):\n",
        "    split = 2\n",
        "    raw_text = RawText(stable_id=element[0], name=element[0], text=str(element[1]))\n",
        "    narrative = Narrative(narrative=raw_text, split=split)\n",
        "    session.add(narrative)\n",
        "    context_stable_id = \"~~\".join([str(element[0]), str(element[0])])\n",
        "    session.add(StableLabel(context_stable_ids=context_stable_id, \n",
        "                            annotator_name='gold',\n",
        "                            split=2,\n",
        "                            value=element[2]))\n",
        "\n",
        "session.commit()\n",
        "\n",
        "# number of datapoints\n",
        "print(session.query(Narrative).count())\n",
        "# load ground truth labels\n",
        "train_cand_labels = train_labels\n",
        "dev_cand_labels = dev_labels\n",
        "test_cand_labels = test_labels"
      ],
      "execution_count": 22,
      "outputs": [
        {
          "output_type": "stream",
          "text": [
            "5000\n"
          ],
          "name": "stdout"
        }
      ]
    },
    {
      "cell_type": "code",
      "metadata": {
        "id": "8--icqpq3JuM",
        "colab_type": "code",
        "outputId": "4157af3a-ee87-4daf-ec08-31ce3799ab0d",
        "colab": {
          "base_uri": "https://localhost:8080/",
          "height": 34
        }
      },
      "source": [
        "# test one labeling function\n",
        "labeled = []\n",
        "for c in session.query(Narrative).filter(Narrative.split == 1).all():\n",
        "    if lf_credit(c) != 0:\n",
        "        labeled.append(c)\n",
        "print(\"Number labeled:\", len(labeled))"
      ],
      "execution_count": 23,
      "outputs": [
        {
          "output_type": "stream",
          "text": [
            "Number labeled: 366\n"
          ],
          "name": "stdout"
        }
      ]
    },
    {
      "cell_type": "code",
      "metadata": {
        "id": "pQnhzeaf3nrt",
        "colab_type": "code",
        "outputId": "3c94dd56-1cf7-4795-cc01-80d186c998ee",
        "colab": {
          "base_uri": "https://localhost:8080/",
          "height": 68
        }
      },
      "source": [
        "LFs = [lf_credit, lf_credit_phrase, lf_credit_actions, lf_mortgage, lf_mortgage_actions, lf_fraud, lf_reporting, lf_repair]\n",
        "# apply labeling functions\n",
        "labeler = LabelAnnotator(lfs = LFs)\n",
        "L_train = labeler.apply(split=0)"
      ],
      "execution_count": 24,
      "outputs": [
        {
          "output_type": "stream",
          "text": [
            "  1%|          | 31/4000 [00:00<00:13, 301.65it/s]"
          ],
          "name": "stderr"
        },
        {
          "output_type": "stream",
          "text": [
            "Clearing existing...\n",
            "Running UDF...\n"
          ],
          "name": "stdout"
        },
        {
          "output_type": "stream",
          "text": [
            "100%|██████████| 4000/4000 [00:13<00:00, 296.12it/s]\n"
          ],
          "name": "stderr"
        }
      ]
    },
    {
      "cell_type": "code",
      "metadata": {
        "id": "fCtH_AV-3scM",
        "colab_type": "code",
        "outputId": "fe8ead68-e0d2-4dd2-e587-2fe005107a06",
        "colab": {
          "base_uri": "https://localhost:8080/",
          "height": 224
        }
      },
      "source": [
        "# see what's going on\n",
        "print(L_train.get_candidate(session, 0))\n",
        "print(L_train.get_key(session, 0))\n",
        "print(L_train.lf_stats(session))\n"
      ],
      "execution_count": 25,
      "outputs": [
        {
          "output_type": "stream",
          "text": [
            "Narrative(Raw Text IN XXXX OF XXXX SPSERVING RESPONDED TO YOU WITH AN ADMISSION OF GUILT THAT THEY WERE NOT APPLYING MY PAYMENTS TO MY MORTGAGE AND WOULD HAVE A CORRECT STATEMENT OUT TO ME AND THAT I WAS ONLY DUE FOR THE XXXX XXXX XXXX PAYMENT. IN THE MEAN TIME I STILL DO NOT HAVE A CORRECT MORTGAGE STATEMENT, THERE ARE XXXX DIFFERENT MORTGAGE PAYMENTS AND THEY ARE STILL CLAIMING THAT I AM STILL DUE FOR THE XXXX XXXX PAYMENT. THERE IS ALSO AN OVERAGE PAYMENT OF XXXX THAT THEY ARE NOT APPLYING TO MY ACCOUNT. THE STATEMENT WILL BE ATTACHED. THEY ALSO VIOLATED THE PRIVACY POLICY ACT AND SENT ALL OF MY PERSONAL INFORMATION TO ANOTHER BORROWER. THAT WILL ALSO BE ATTACHED. MY ATTORNEY HAS SENT THEM LETTERS REGARDING THIS BECAUSE THEY SENT ME A CHECK TO PAY FOR XXXX, BUT UNFORTUNATELY THE AMOUNT THEY SENT DOES NOT EVEN COVER THE BASIC COST OF THIS PRODUCT. I AM SIMPLY NOT ACCEPTING THIS. IF I SENT A BORROWER 'S INFORMATION TO ANOTHER BORROWER, I WOULD BE FIRED ON THE SPOT AS THAT IS A TRUE VIOLATION OF PRIVACY POLICY ACT. I WAS A LOAN PROCESSOR SO I KNOW HOW SERIOUS THIS VIOLATION IS. I AM OFF WORK DUE TO AN INJURY AND NOW ON XXXX MEDICATION BECAUSE OF THIS ONGOING PROBLEM WITH MY MORTGAGE COMPANY AND I NEED TO SEE XXXX EVERY MONTH AS WELL. IN XXXX OF XXXX I SENT YOU PROOF OF ALL OF MY PAYMENTS AND MY ATTORNEY HAS THEM AS WELL. AT THIS POINT, I AM EXTREMELY DISGUSTED WITH THEIR SERVICING OF MY MORTGAGE. THEY SENT ME AN OVERPAYMENT CHECK FROM MY ESCROW ACCOUNT, SO HOW COULD I POSSIBLY BE MISSING A PAYMENT FROM A YEAR AGO???? I REALLY NEED SOME HELP HERE WITH THIS ONGOING PROBLEM. AS OF LAST WEEK, THEY ARE STILL ASKING ME TO SEND THEM PROOF OF MY XXXX PAYMENT FOR XXXX. THIS WAS DONE IN XXXX OF XXXX. I AM LOSING TRACK NOW OF HOW MANY TIMES I HAVE HAD TO DO THIS AND IS VERY DISTURBING TO ME.)\n",
            "LabelKey (lf_credit)\n",
            "                     j  Coverage  Overlaps  Conflicts\n",
            "lf_credit            0   0.74950   0.68000    0.27200\n",
            "lf_credit_phrase     1   0.44725   0.44725    0.12850\n",
            "lf_credit_actions    2   0.33950   0.33375    0.10500\n",
            "lf_mortgage          3   0.45475   0.28425    0.27925\n",
            "lf_mortgage_actions  4   0.01225   0.01225    0.00725\n",
            "lf_fraud             5   0.02250   0.02200    0.00375\n",
            "lf_reporting         6   0.32275   0.31975    0.08050\n",
            "lf_repair            7   0.02750   0.02700    0.01700\n"
          ],
          "name": "stdout"
        }
      ]
    },
    {
      "cell_type": "code",
      "metadata": {
        "id": "Bbo3wzLj5ukd",
        "colab_type": "code",
        "outputId": "dad82c78-c1a3-4f45-b24a-6b542604c06a",
        "colab": {
          "base_uri": "https://localhost:8080/",
          "height": 34
        }
      },
      "source": [
        "gen_model = GenerativeModel()\n",
        "gen_model.train(L_train, epochs=20, decay=0.95, step_size=0.1/L_train.shape[0], reg_param=1e-6)"
      ],
      "execution_count": 26,
      "outputs": [
        {
          "output_type": "stream",
          "text": [
            "Inferred cardinality: 2\n"
          ],
          "name": "stdout"
        }
      ]
    },
    {
      "cell_type": "code",
      "metadata": {
        "id": "t7-pU4eS5_Na",
        "colab_type": "code",
        "outputId": "d72ae635-6a4c-490e-eff3-a0c178fbe9a0",
        "colab": {
          "base_uri": "https://localhost:8080/",
          "height": 269
        }
      },
      "source": [
        "train_marginals = gen_model.marginals(L_train)\n",
        "plt.hist(train_marginals, bins=20)\n",
        "plt.show()"
      ],
      "execution_count": 27,
      "outputs": [
        {
          "output_type": "display_data",
          "data": {
            "image/png": "[encoded data removed]",
            "text/plain": [
              "<Figure size 432x288 with 1 Axes>"
            ]
          },
          "metadata": {
            "tags": []
          }
        }
      ]
    },
    {
      "cell_type": "code",
      "metadata": {
        "id": "Wu6pQmGf8a60",
        "colab_type": "code",
        "outputId": "b6476c2a-38c7-4770-d01d-d9b122eb838e",
        "colab": {
          "base_uri": "https://localhost:8080/",
          "height": 34
        }
      },
      "source": [
        "accuracy = gen_model.score(L_train, train_cand_labels)\n",
        "accuracy[0]\n",
        "print(\"precision: {:.5f}\".format(accuracy[0]), \"recall: {:.5f}\".format(accuracy[1]), \n",
        "      \"F-beta: {:.5f}\".format(accuracy[2]))"
      ],
      "execution_count": 28,
      "outputs": [
        {
          "output_type": "stream",
          "text": [
            "precision: 0.64666 recall: 0.97050 F-beta: 0.77615\n"
          ],
          "name": "stdout"
        }
      ]
    },
    {
      "cell_type": "code",
      "metadata": {
        "id": "jAHOrwAi8wia",
        "colab_type": "code",
        "outputId": "e0951f3d-ca46-4992-a9d9-7638267bd991",
        "colab": {
          "base_uri": "https://localhost:8080/",
          "height": 68
        }
      },
      "source": [
        "# Collect the majority vote answer for each complaint\n",
        "mv = []\n",
        "for i in range(L_train.shape[0]):\n",
        "    if np.diff(L_train[i].indptr) != 0:   #indicates that there is no coverage for a particular datapoint\n",
        "        c = Counter([L_train[i,j] for j in L_train[i].nonzero()[1]])\n",
        "        #print(c)\n",
        "        mv.append(c.most_common(1)[0][0])\n",
        "        #print(c.most_common(1)[0][0])\n",
        "    else:\n",
        "        mv.append(-1) # assume that no label is equivalent to a negative example\n",
        "\n",
        "mv = np.array(mv)\n",
        "\n",
        "# Count the number correct by majority vote\n",
        "n_correct = np.sum([1 for i in range(L_train.shape[0]) if mv[i] == train_cand_labels[i]])\n",
        "print (\"Accuracy:{}\".format(n_correct / float(L_train.shape[0])))\n",
        "print (\"Number incorrect:{}\".format(L_train.shape[0] - n_correct))\n",
        "\n",
        "# Compute and return precision, recall, and F1 score\n",
        "tp = (0.5 * (mv * train_cand_labels + 1))[mv == 1].sum()\n",
        "pred_pos = mv[mv == 1].sum()\n",
        "p = tp / float(pred_pos) if pred_pos > 0 else 0.0\n",
        "pos = train_cand_labels[train_cand_labels == 1].sum()\n",
        "r = tp / float(pos) if pos > 0 else 0.0\n",
        "\n",
        "# Compute general F-beta score\n",
        "beta=1\n",
        "if p + r > 0:\n",
        "    f_beta = (1 + beta**2) * ((p * r) / (((beta**2) * p) + r))\n",
        "else:\n",
        "    f_beta = 0.0\n",
        "p, r, f_beta\n",
        "print(\"precision: {:.5f}\".format(p), \"recall: {:.5f}\".format(r), \"F-beta: {:.5f}\".format(f_beta))\n"
      ],
      "execution_count": 29,
      "outputs": [
        {
          "output_type": "stream",
          "text": [
            "Accuracy:0.8125\n",
            "Number incorrect:750\n",
            "precision: 0.78792 recall: 0.96459 F-beta: 0.86735\n"
          ],
          "name": "stdout"
        }
      ]
    },
    {
      "cell_type": "code",
      "metadata": {
        "id": "SFUbHlys9M4x",
        "colab_type": "code",
        "outputId": "9920763c-de25-41ca-efcc-bee14e9d03bf",
        "colab": {
          "base_uri": "https://localhost:8080/",
          "height": 272
        }
      },
      "source": [
        "L_dev = labeler.apply(split=1)\n",
        "# score it\n",
        "tp, fp, tn, fn = gen_model.error_analysis(session, L_dev, dev_cand_labels)"
      ],
      "execution_count": 30,
      "outputs": [
        {
          "output_type": "stream",
          "text": [
            "  6%|▌         | 31/500 [00:00<00:01, 304.30it/s]"
          ],
          "name": "stderr"
        },
        {
          "output_type": "stream",
          "text": [
            "Clearing existing...\n",
            "Running UDF...\n"
          ],
          "name": "stdout"
        },
        {
          "output_type": "stream",
          "text": [
            "100%|██████████| 500/500 [00:01<00:00, 298.08it/s]\n"
          ],
          "name": "stderr"
        },
        {
          "output_type": "stream",
          "text": [
            "========================================\n",
            "Scores (Un-adjusted)\n",
            "========================================\n",
            "Pos. class accuracy: 0.968\n",
            "Neg. class accuracy: 0.0632\n",
            "Precision            0.628\n",
            "Recall               0.968\n",
            "F1                   0.761\n",
            "----------------------------------------\n",
            "TP: 300 | FP: 178 | TN: 12 | FN: 10\n",
            "========================================\n",
            "\n"
          ],
          "name": "stdout"
        }
      ]
    },
    {
      "cell_type": "code",
      "metadata": {
        "id": "8yNNLBQ89vVZ",
        "colab_type": "code",
        "outputId": "54807da6-d1a7-4b05-9b3c-17bc2a7a4eee",
        "colab": {
          "base_uri": "https://localhost:8080/",
          "height": 34
        }
      },
      "source": [
        "save_marginals(session, L_train, train_marginals)"
      ],
      "execution_count": 31,
      "outputs": [
        {
          "output_type": "stream",
          "text": [
            "Saved 4000 marginals\n"
          ],
          "name": "stdout"
        }
      ]
    },
    {
      "cell_type": "code",
      "metadata": {
        "id": "PO3eCdQp924i",
        "colab_type": "code",
        "colab": {}
      },
      "source": [
        "train_cands = session.query(Narrative).filter(Narrative.split == 0).order_by(Narrative.id).all()\n",
        "dev_cands   = session.query(Narrative).filter(Narrative.split == 1).order_by(Narrative.id).all()\n",
        "test_cands  = session.query(Narrative).filter(Narrative.split == 2).order_by(Narrative.id).all()\n"
      ],
      "execution_count": 0,
      "outputs": []
    },
    {
      "cell_type": "code",
      "metadata": {
        "id": "zvoqgKfq932D",
        "colab_type": "code",
        "outputId": "5df411b5-9351-47b9-8792-e1fead52c0b2",
        "colab": {
          "base_uri": "https://localhost:8080/",
          "height": 292
        }
      },
      "source": [
        "train_kwargs = {\n",
        "    'lr':         0.01,\n",
        "    'dim':        100,\n",
        "    'n_epochs':   10,\n",
        "    'dropout':    0.2,\n",
        "    'print_freq': 5,\n",
        "    'seed': 123,\n",
        "    'batch_size': 100\n",
        "}\n",
        "\n",
        "lstm = TextRNN(seed=123, cardinality=Narrative.cardinality)\n",
        "# Note: Y_train are the marginals but Y_dev are the gold/ ground truth labels\n",
        "lstm.train(X_train=train_cands, Y_train=train_marginals, X_dev=dev_cands, Y_dev=dev_cand_labels, **train_kwargs)"
      ],
      "execution_count": 34,
      "outputs": [
        {
          "output_type": "stream",
          "text": [
            "/usr/local/lib/python3.6/dist-packages/snorkel/learning/tensorflow/rnn/rnn_base.py:36: UserWarning: Candidate 3229 has argument past max length for model:\t[arg ends at index 5542; max len 5542]\n",
            "  warnings.warn('\\t'.join([w.format(i), info]))\n"
          ],
          "name": "stderr"
        },
        {
          "output_type": "stream",
          "text": [
            "[TextRNN] Training model\n",
            "[TextRNN] n_train=3835  #epochs=10  batch size=100\n",
            "[TextRNN] Epoch 0 (112.34s)\tAverage loss=0.386571\tDev F1=76.54\n",
            "[TextRNN] Epoch 5 (693.68s)\tAverage loss=0.250362\tDev F1=76.64\n"
          ],
          "name": "stdout"
        },
        {
          "output_type": "stream",
          "text": [
            "W0627 19:48:16.978537 140433655945088 deprecation_wrapper.py:119] From /usr/local/lib/python3.6/dist-packages/snorkel/learning/tensorflow/noise_aware_model.py:311: The name tf.train.Saver is deprecated. Please use tf.compat.v1.train.Saver instead.\n",
            "\n"
          ],
          "name": "stderr"
        },
        {
          "output_type": "stream",
          "text": [
            "[TextRNN] Epoch 9 (1151.84s)\tAverage loss=0.245079\tDev F1=76.83\n",
            "[TextRNN] Model saved as <TextRNN>\n",
            "[TextRNN] Training done (1156.33s)\n"
          ],
          "name": "stdout"
        },
        {
          "output_type": "stream",
          "text": [
            "W0627 19:48:17.594038 140433655945088 deprecation.py:323] From /usr/local/lib/python3.6/dist-packages/tensorflow/python/training/saver.py:1276: checkpoint_exists (from tensorflow.python.training.checkpoint_management) is deprecated and will be removed in a future version.\n",
            "Instructions for updating:\n",
            "Use standard file APIs to check for files with this prefix.\n"
          ],
          "name": "stderr"
        },
        {
          "output_type": "stream",
          "text": [
            "[TextRNN] Loaded model <TextRNN>\n"
          ],
          "name": "stdout"
        }
      ]
    },
    {
      "cell_type": "code",
      "metadata": {
        "id": "sZBYLyyW-LdP",
        "colab_type": "code",
        "colab": {
          "base_uri": "https://localhost:8080/",
          "height": 34
        },
        "outputId": "ad3db8e3-80c9-4b85-d04d-d09bb7fa269e"
      },
      "source": [
        "accuracy_dev = lstm.score(dev_cands, dev_cand_labels)\n",
        "print(\"precision: {:.5f}\".format(accuracy_dev[0]), \"recall: {:.5f}\".format(accuracy_dev[1]), \n",
        "      \"F-beta: {:.5f}\".format(accuracy_dev[2]))"
      ],
      "execution_count": 35,
      "outputs": [
        {
          "output_type": "stream",
          "text": [
            "precision: 0.62374 recall: 1.00000 F-beta: 0.76828\n"
          ],
          "name": "stdout"
        }
      ]
    },
    {
      "cell_type": "code",
      "metadata": {
        "id": "TlC3vfgA-Nse",
        "colab_type": "code",
        "colab": {
          "base_uri": "https://localhost:8080/",
          "height": 34
        },
        "outputId": "1036f167-30f8-45c0-80c4-a916ed19dbe5"
      },
      "source": [
        "accuracy_test = lstm.score(test_cands, test_cand_labels)\n",
        "print(\"precision: {:.5f}\".format(accuracy_test[0]), \"recall: {:.5f}\".format(accuracy_test[1]), \n",
        "      \"F-beta: {:.5f}\".format(accuracy_test[2]))"
      ],
      "execution_count": 36,
      "outputs": [
        {
          "output_type": "stream",
          "text": [
            "precision: 0.68293 recall: 1.00000 F-beta: 0.81159\n"
          ],
          "name": "stdout"
        }
      ]
    },
    {
      "cell_type": "code",
      "metadata": {
        "id": "IHnR2IapfFL0",
        "colab_type": "code",
        "colab": {
          "base_uri": "https://localhost:8080/",
          "height": 105
        },
        "outputId": "d61be5d5-5a97-408d-d67a-df43e74f52db"
      },
      "source": [
        "train_kwargs = {\n",
        "    'lr':         0.001,\n",
        "    'dim':        100,\n",
        "    'n_epochs':   10,\n",
        "    'dropout':    0.2,\n",
        "    'print_freq': 1,\n",
        "    'seed': 123,\n",
        "    'batch_size': 100\n",
        "}\n",
        "\n",
        "lstm = TextRNN(seed=123, cardinality=Narrative.cardinality)\n",
        "# Note: Y_train are the marginals but Y_dev are the gold/ ground truth labels\n",
        "lstm.train(X_train=train_cands, Y_train=train_marginals, X_dev=dev_cands, Y_dev=dev_cand_labels, **train_kwargs)"
      ],
      "execution_count": 0,
      "outputs": [
        {
          "output_type": "stream",
          "text": [
            "/usr/local/lib/python3.6/dist-packages/snorkel/learning/tensorflow/rnn/rnn_base.py:36: UserWarning: Candidate 3229 has argument past max length for model:\t[arg ends at index 5542; max len 5542]\n",
            "  warnings.warn('\\t'.join([w.format(i), info]))\n"
          ],
          "name": "stderr"
        },
        {
          "output_type": "stream",
          "text": [
            "[TextRNN] Training model\n",
            "[TextRNN] n_train=3835  #epochs=10  batch size=100\n"
          ],
          "name": "stdout"
        }
      ]
    },
    {
      "cell_type": "code",
      "metadata": {
        "id": "ldw9qByhfM5L",
        "colab_type": "code",
        "colab": {}
      },
      "source": [
        "accuracy_dev = lstm.score(dev_cands, dev_cand_labels)\n",
        "print(\"precision: {:.5f}\".format(accuracy_dev[0]), \"recall: {:.5f}\".format(accuracy_dev[1]), \n",
        "      \"F-beta: {:.5f}\".format(accuracy_dev[2]))"
      ],
      "execution_count": 0,
      "outputs": []
    },
    {
      "cell_type": "code",
      "metadata": {
        "id": "SLapUfGYfOeK",
        "colab_type": "code",
        "colab": {}
      },
      "source": [
        "accuracy_test = lstm.score(test_cands, test_cand_labels)\n",
        "print(\"precision: {:.5f}\".format(accuracy_test[0]), \"recall: {:.5f}\".format(accuracy_test[1]), \n",
        "      \"F-beta: {:.5f}\".format(accuracy_test[2]))"
      ],
      "execution_count": 0,
      "outputs": []
    }
  ]
}