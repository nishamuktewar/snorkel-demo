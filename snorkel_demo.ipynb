{
  "nbformat": 4,
  "nbformat_minor": 0,
  "metadata": {
    "colab": {
      "name": "snorkel-demo.ipynb",
      "version": "0.3.2",
      "provenance": [],
      "collapsed_sections": [],
      "include_colab_link": true
    },
    "kernelspec": {
      "name": "python3",
      "display_name": "Python 3"
    },
    "accelerator": "GPU"
  },
  "cells": [
    {
      "cell_type": "markdown",
      "metadata": {
        "id": "view-in-github",
        "colab_type": "text"
      },
      "source": [
        "<a href=\"https://colab.research.google.com/github/nishamuktewar/test/blob/master/snorkel_demo.ipynb\" target=\"_parent\"><img src=\"https://colab.research.google.com/assets/colab-badge.svg\" alt=\"Open In Colab\"/></a>"
      ]
    },
    {
      "cell_type": "code",
      "metadata": {
        "id": "Q40cmhf21u79",
        "colab_type": "code",
        "outputId": "87bf49c1-ffa9-4c35-b52c-236fbf7927b1",
        "colab": {
          "base_uri": "https://localhost:8080/",
          "height": 1000
        }
      },
      "source": [
        "!pip3 install -r requirements.txt"
      ],
      "execution_count": 1,
      "outputs": [
        {
          "output_type": "stream",
          "text": [
            "Collecting beautifulsoup4==4.7.1 (from -r requirements.txt (line 1))\n",
            "\u001b[?25l  Downloading https://files.pythonhosted.org/packages/1d/5d/3260694a59df0ec52f8b4883f5d23b130bc237602a1411fa670eae12351e/beautifulsoup4-4.7.1-py3-none-any.whl (94kB)\n",
            "\r\u001b[K     |███▌                            | 10kB 22.8MB/s eta 0:00:01\r\u001b[K     |███████                         | 20kB 30.3MB/s eta 0:00:01\r\u001b[K     |██████████▍                     | 30kB 35.4MB/s eta 0:00:01\r\u001b[K     |██████████████                  | 40kB 40.7MB/s eta 0:00:01\r\u001b[K     |█████████████████▍              | 51kB 45.4MB/s eta 0:00:01\r\u001b[K     |████████████████████▉           | 61kB 50.2MB/s eta 0:00:01\r\u001b[K     |████████████████████████▎       | 71kB 51.9MB/s eta 0:00:01\r\u001b[K     |███████████████████████████▉    | 81kB 53.2MB/s eta 0:00:01\r\u001b[K     |███████████████████████████████▎| 92kB 55.8MB/s eta 0:00:01\r\u001b[K     |████████████████████████████████| 102kB 37.9MB/s \n",
            "\u001b[?25hCollecting future==0.17.1 (from -r requirements.txt (line 2))\n",
            "\u001b[?25l  Downloading https://files.pythonhosted.org/packages/90/52/e20466b85000a181e1e144fd8305caf2cf475e2f9674e797b222f8105f5f/future-0.17.1.tar.gz (829kB)\n",
            "\r\u001b[K     |▍                               | 10kB 23.2MB/s eta 0:00:01\r\u001b[K     |▉                               | 20kB 30.9MB/s eta 0:00:01\r\u001b[K     |█▏                              | 30kB 38.7MB/s eta 0:00:01\r\u001b[K     |█▋                              | 40kB 42.7MB/s eta 0:00:01\r\u001b[K     |██                              | 51kB 43.6MB/s eta 0:00:01\r\u001b[K     |██▍                             | 61kB 47.6MB/s eta 0:00:01\r\u001b[K     |██▊                             | 71kB 49.6MB/s eta 0:00:01\r\u001b[K     |███▏                            | 81kB 52.4MB/s eta 0:00:01\r\u001b[K     |███▋                            | 92kB 54.3MB/s eta 0:00:01\r\u001b[K     |████                            | 102kB 55.7MB/s eta 0:00:01\r\u001b[K     |████▍                           | 112kB 55.7MB/s eta 0:00:01\r\u001b[K     |████▊                           | 122kB 55.7MB/s eta 0:00:01\r\u001b[K     |█████▏                          | 133kB 55.7MB/s eta 0:00:01\r\u001b[K     |█████▌                          | 143kB 55.7MB/s eta 0:00:01\r\u001b[K     |██████                          | 153kB 55.7MB/s eta 0:00:01\r\u001b[K     |██████▎                         | 163kB 55.7MB/s eta 0:00:01\r\u001b[K     |██████▊                         | 174kB 55.7MB/s eta 0:00:01\r\u001b[K     |███████▏                        | 184kB 55.7MB/s eta 0:00:01\r\u001b[K     |███████▌                        | 194kB 55.7MB/s eta 0:00:01\r\u001b[K     |████████                        | 204kB 55.7MB/s eta 0:00:01\r\u001b[K     |████████▎                       | 215kB 55.7MB/s eta 0:00:01\r\u001b[K     |████████▊                       | 225kB 55.7MB/s eta 0:00:01\r\u001b[K     |█████████                       | 235kB 55.7MB/s eta 0:00:01\r\u001b[K     |█████████▌                      | 245kB 55.7MB/s eta 0:00:01\r\u001b[K     |█████████▉                      | 256kB 55.7MB/s eta 0:00:01\r\u001b[K     |██████████▎                     | 266kB 55.7MB/s eta 0:00:01\r\u001b[K     |██████████▊                     | 276kB 55.7MB/s eta 0:00:01\r\u001b[K     |███████████                     | 286kB 55.7MB/s eta 0:00:01\r\u001b[K     |███████████▌                    | 296kB 55.7MB/s eta 0:00:01\r\u001b[K     |███████████▉                    | 307kB 55.7MB/s eta 0:00:01\r\u001b[K     |████████████▎                   | 317kB 55.7MB/s eta 0:00:01\r\u001b[K     |████████████▋                   | 327kB 55.7MB/s eta 0:00:01\r\u001b[K     |█████████████                   | 337kB 55.7MB/s eta 0:00:01\r\u001b[K     |█████████████▍                  | 348kB 55.7MB/s eta 0:00:01\r\u001b[K     |█████████████▉                  | 358kB 55.7MB/s eta 0:00:01\r\u001b[K     |██████████████▎                 | 368kB 55.7MB/s eta 0:00:01\r\u001b[K     |██████████████▋                 | 378kB 55.7MB/s eta 0:00:01\r\u001b[K     |███████████████                 | 389kB 55.7MB/s eta 0:00:01\r\u001b[K     |███████████████▍                | 399kB 55.7MB/s eta 0:00:01\r\u001b[K     |███████████████▉                | 409kB 55.7MB/s eta 0:00:01\r\u001b[K     |████████████████▏               | 419kB 55.7MB/s eta 0:00:01\r\u001b[K     |████████████████▋               | 430kB 55.7MB/s eta 0:00:01\r\u001b[K     |█████████████████               | 440kB 55.7MB/s eta 0:00:01\r\u001b[K     |█████████████████▍              | 450kB 55.7MB/s eta 0:00:01\r\u001b[K     |█████████████████▉              | 460kB 55.7MB/s eta 0:00:01\r\u001b[K     |██████████████████▏             | 471kB 55.7MB/s eta 0:00:01\r\u001b[K     |██████████████████▋             | 481kB 55.7MB/s eta 0:00:01\r\u001b[K     |███████████████████             | 491kB 55.7MB/s eta 0:00:01\r\u001b[K     |███████████████████▍            | 501kB 55.7MB/s eta 0:00:01\r\u001b[K     |███████████████████▊            | 512kB 55.7MB/s eta 0:00:01\r\u001b[K     |████████████████████▏           | 522kB 55.7MB/s eta 0:00:01\r\u001b[K     |████████████████████▌           | 532kB 55.7MB/s eta 0:00:01\r\u001b[K     |█████████████████████           | 542kB 55.7MB/s eta 0:00:01\r\u001b[K     |█████████████████████▍          | 552kB 55.7MB/s eta 0:00:01\r\u001b[K     |█████████████████████▊          | 563kB 55.7MB/s eta 0:00:01\r\u001b[K     |██████████████████████▏         | 573kB 55.7MB/s eta 0:00:01\r\u001b[K     |██████████████████████▌         | 583kB 55.7MB/s eta 0:00:01\r\u001b[K     |███████████████████████         | 593kB 55.7MB/s eta 0:00:01\r\u001b[K     |███████████████████████▎        | 604kB 55.7MB/s eta 0:00:01\r\u001b[K     |███████████████████████▊        | 614kB 55.7MB/s eta 0:00:01\r\u001b[K     |████████████████████████        | 624kB 55.7MB/s eta 0:00:01\r\u001b[K     |████████████████████████▌       | 634kB 55.7MB/s eta 0:00:01\r\u001b[K     |█████████████████████████       | 645kB 55.7MB/s eta 0:00:01\r\u001b[K     |█████████████████████████▎      | 655kB 55.7MB/s eta 0:00:01\r\u001b[K     |█████████████████████████▊      | 665kB 55.7MB/s eta 0:00:01\r\u001b[K     |██████████████████████████      | 675kB 55.7MB/s eta 0:00:01\r\u001b[K     |██████████████████████████▌     | 686kB 55.7MB/s eta 0:00:01\r\u001b[K     |██████████████████████████▉     | 696kB 55.7MB/s eta 0:00:01\r\u001b[K     |███████████████████████████▎    | 706kB 55.7MB/s eta 0:00:01\r\u001b[K     |███████████████████████████▋    | 716kB 55.7MB/s eta 0:00:01\r\u001b[K     |████████████████████████████    | 727kB 55.7MB/s eta 0:00:01\r\u001b[K     |████████████████████████████▌   | 737kB 55.7MB/s eta 0:00:01\r\u001b[K     |████████████████████████████▉   | 747kB 55.7MB/s eta 0:00:01\r\u001b[K     |█████████████████████████████▎  | 757kB 55.7MB/s eta 0:00:01\r\u001b[K     |█████████████████████████████▋  | 768kB 55.7MB/s eta 0:00:01\r\u001b[K     |██████████████████████████████  | 778kB 55.7MB/s eta 0:00:01\r\u001b[K     |██████████████████████████████▍ | 788kB 55.7MB/s eta 0:00:01\r\u001b[K     |██████████████████████████████▉ | 798kB 55.7MB/s eta 0:00:01\r\u001b[K     |███████████████████████████████▏| 808kB 55.7MB/s eta 0:00:01\r\u001b[K     |███████████████████████████████▋| 819kB 55.7MB/s eta 0:00:01\r\u001b[K     |████████████████████████████████| 829kB 55.7MB/s \n",
            "\u001b[?25hRequirement already satisfied: ipywidgets==7.4.2 in /usr/local/lib/python3.6/dist-packages (from -r requirements.txt (line 3)) (7.4.2)\n",
            "Requirement already satisfied: jupyter==1.0.0 in /usr/local/lib/python3.6/dist-packages (from -r requirements.txt (line 4)) (1.0.0)\n",
            "Collecting lxml==4.3.3 (from -r requirements.txt (line 5))\n",
            "\u001b[?25l  Downloading https://files.pythonhosted.org/packages/35/8a/5e066949f2b40caac32c7b2a77da63ad304b5fbe869036cc3fe4a198f724/lxml-4.3.3-cp36-cp36m-manylinux1_x86_64.whl (5.7MB)\n",
            "\u001b[K     |████████████████████████████████| 5.7MB 41.3MB/s \n",
            "\u001b[?25hCollecting matplotlib==3.0.1 (from -r requirements.txt (line 6))\n",
            "\u001b[?25l  Downloading https://files.pythonhosted.org/packages/1e/f8/4aba1144dad8c67db060049d1a8bc740ad9fa35288d21b82bb85de69ff15/matplotlib-3.0.1-cp36-cp36m-manylinux1_x86_64.whl (12.9MB)\n",
            "\u001b[K     |████████████████████████████████| 12.9MB 49.1MB/s \n",
            "\u001b[?25hRequirement already satisfied: nltk==3.2.5 in /usr/local/lib/python3.6/dist-packages (from -r requirements.txt (line 7)) (3.2.5)\n",
            "Collecting numba==0.43.1 (from -r requirements.txt (line 8))\n",
            "\u001b[?25l  Downloading https://files.pythonhosted.org/packages/8d/c6/b28f5cada2aca31018a8bb210065f9b6a3174d25a80a9961c7bd3e831c3e/numba-0.43.1-cp36-cp36m-manylinux1_x86_64.whl (3.3MB)\n",
            "\u001b[K     |████████████████████████████████| 3.3MB 54.0MB/s \n",
            "\u001b[?25hCollecting numpy==1.16.1 (from -r requirements.txt (line 9))\n",
            "\u001b[?25l  Downloading https://files.pythonhosted.org/packages/f5/bf/4981bcbee43934f0adb8f764a1e70ab0ee5a448f6505bd04a87a2fda2a8b/numpy-1.16.1-cp36-cp36m-manylinux1_x86_64.whl (17.3MB)\n",
            "\u001b[K     |████████████████████████████████| 17.3MB 56.0MB/s \n",
            "\u001b[?25hRequirement already satisfied: pandas==0.24.2 in /usr/local/lib/python3.6/dist-packages (from -r requirements.txt (line 10)) (0.24.2)\n",
            "Collecting py4j==0.10.8.1 (from -r requirements.txt (line 11))\n",
            "\u001b[?25l  Downloading https://files.pythonhosted.org/packages/04/de/2d314a921ef4c20b283e1de94e0780273678caac901564df06b948e4ba9b/py4j-0.10.8.1-py2.py3-none-any.whl (196kB)\n",
            "\u001b[K     |████████████████████████████████| 204kB 63.6MB/s \n",
            "\u001b[?25hCollecting requests==2.22.0 (from -r requirements.txt (line 12))\n",
            "\u001b[?25l  Downloading https://files.pythonhosted.org/packages/51/bd/23c926cd341ea6b7dd0b2a00aba99ae0f828be89d72b2190f27c11d4b7fb/requests-2.22.0-py2.py3-none-any.whl (57kB)\n",
            "\u001b[K     |████████████████████████████████| 61kB 29.5MB/s \n",
            "\u001b[?25hCollecting runipy==0.1.5 (from -r requirements.txt (line 13))\n",
            "  Downloading https://files.pythonhosted.org/packages/ab/b7/628258778b5b6da373dda3053241bf5f7d80ee65941ad3ad219fb3e9356f/runipy-0.1.5.tar.gz\n",
            "Collecting scipy==1.2.1 (from -r requirements.txt (line 14))\n",
            "\u001b[?25l  Downloading https://files.pythonhosted.org/packages/7f/5f/c48860704092933bf1c4c1574a8de1ffd16bf4fde8bab190d747598844b2/scipy-1.2.1-cp36-cp36m-manylinux1_x86_64.whl (24.8MB)\n",
            "\u001b[K     |████████████████████████████████| 24.8MB 1.3MB/s \n",
            "\u001b[?25hRequirement already satisfied: six==1.12.0 in /usr/local/lib/python3.6/dist-packages (from -r requirements.txt (line 15)) (1.12.0)\n",
            "Requirement already satisfied: spacy in /usr/local/lib/python3.6/dist-packages (from -r requirements.txt (line 16)) (2.1.4)\n",
            "Collecting sqlalchemy==1.3.3 (from -r requirements.txt (line 17))\n",
            "\u001b[?25l  Downloading https://files.pythonhosted.org/packages/2b/b2/e6f5c5efc68942edefaa924e8fbea0b32375baa434a511cbf6bb17769cf6/SQLAlchemy-1.3.3.tar.gz (5.9MB)\n",
            "\u001b[K     |████████████████████████████████| 5.9MB 48.0MB/s \n",
            "\u001b[?25hCollecting tika==1.19 (from -r requirements.txt (line 18))\n",
            "  Downloading https://files.pythonhosted.org/packages/10/75/b566e446ffcf292f10c8d84c15a3d91615fe3d7ca8072a17c949d4e84b66/tika-1.19.tar.gz\n",
            "Collecting tqdm==4.32.1 (from -r requirements.txt (line 19))\n",
            "\u001b[?25l  Downloading https://files.pythonhosted.org/packages/45/af/685bf3ce889ea191f3b916557f5677cc95a5e87b2fa120d74b5dd6d049d0/tqdm-4.32.1-py2.py3-none-any.whl (49kB)\n",
            "\u001b[K     |████████████████████████████████| 51kB 21.5MB/s \n",
            "\u001b[?25hRequirement already satisfied: sklearn in /usr/local/lib/python3.6/dist-packages (from -r requirements.txt (line 20)) (0.0)\n",
            "Collecting soupsieve>=1.2 (from beautifulsoup4==4.7.1->-r requirements.txt (line 1))\n",
            "  Downloading https://files.pythonhosted.org/packages/35/e3/25079e8911085ab76a6f2facae0771078260c930216ab0b0c44dc5c9bf31/soupsieve-1.9.2-py2.py3-none-any.whl\n",
            "Requirement already satisfied: widgetsnbextension~=3.4.0 in /usr/local/lib/python3.6/dist-packages (from ipywidgets==7.4.2->-r requirements.txt (line 3)) (3.4.2)\n",
            "Requirement already satisfied: ipykernel>=4.5.1 in /usr/local/lib/python3.6/dist-packages (from ipywidgets==7.4.2->-r requirements.txt (line 3)) (4.6.1)\n",
            "Requirement already satisfied: ipython>=4.0.0; python_version >= \"3.3\" in /usr/local/lib/python3.6/dist-packages (from ipywidgets==7.4.2->-r requirements.txt (line 3)) (5.5.0)\n",
            "Requirement already satisfied: nbformat>=4.2.0 in /usr/local/lib/python3.6/dist-packages (from ipywidgets==7.4.2->-r requirements.txt (line 3)) (4.4.0)\n",
            "Requirement already satisfied: traitlets>=4.3.1 in /usr/local/lib/python3.6/dist-packages (from ipywidgets==7.4.2->-r requirements.txt (line 3)) (4.3.2)\n",
            "Requirement already satisfied: nbconvert in /usr/local/lib/python3.6/dist-packages (from jupyter==1.0.0->-r requirements.txt (line 4)) (5.5.0)\n",
            "Requirement already satisfied: qtconsole in /usr/local/lib/python3.6/dist-packages (from jupyter==1.0.0->-r requirements.txt (line 4)) (4.5.1)\n",
            "Requirement already satisfied: jupyter-console in /usr/local/lib/python3.6/dist-packages (from jupyter==1.0.0->-r requirements.txt (line 4)) (6.0.0)\n",
            "Requirement already satisfied: notebook in /usr/local/lib/python3.6/dist-packages (from jupyter==1.0.0->-r requirements.txt (line 4)) (5.2.2)\n",
            "Requirement already satisfied: python-dateutil>=2.1 in /usr/local/lib/python3.6/dist-packages (from matplotlib==3.0.1->-r requirements.txt (line 6)) (2.5.3)\n",
            "Requirement already satisfied: cycler>=0.10 in /usr/local/lib/python3.6/dist-packages (from matplotlib==3.0.1->-r requirements.txt (line 6)) (0.10.0)\n",
            "Requirement already satisfied: pyparsing!=2.0.4,!=2.1.2,!=2.1.6,>=2.0.1 in /usr/local/lib/python3.6/dist-packages (from matplotlib==3.0.1->-r requirements.txt (line 6)) (2.4.0)\n",
            "Requirement already satisfied: kiwisolver>=1.0.1 in /usr/local/lib/python3.6/dist-packages (from matplotlib==3.0.1->-r requirements.txt (line 6)) (1.1.0)\n",
            "Requirement already satisfied: llvmlite>=0.28.0dev0 in /usr/local/lib/python3.6/dist-packages (from numba==0.43.1->-r requirements.txt (line 8)) (0.29.0)\n",
            "Requirement already satisfied: pytz>=2011k in /usr/local/lib/python3.6/dist-packages (from pandas==0.24.2->-r requirements.txt (line 10)) (2018.9)\n",
            "Requirement already satisfied: certifi>=2017.4.17 in /usr/local/lib/python3.6/dist-packages (from requests==2.22.0->-r requirements.txt (line 12)) (2019.3.9)\n",
            "Requirement already satisfied: idna<2.9,>=2.5 in /usr/local/lib/python3.6/dist-packages (from requests==2.22.0->-r requirements.txt (line 12)) (2.8)\n",
            "Requirement already satisfied: chardet<3.1.0,>=3.0.2 in /usr/local/lib/python3.6/dist-packages (from requests==2.22.0->-r requirements.txt (line 12)) (3.0.4)\n",
            "Requirement already satisfied: urllib3!=1.25.0,!=1.25.1,<1.26,>=1.21.1 in /usr/local/lib/python3.6/dist-packages (from requests==2.22.0->-r requirements.txt (line 12)) (1.24.3)\n",
            "Requirement already satisfied: Jinja2>=2.7.2 in /usr/local/lib/python3.6/dist-packages (from runipy==0.1.5->-r requirements.txt (line 13)) (2.10.1)\n",
            "Requirement already satisfied: Pygments>=1.6 in /usr/local/lib/python3.6/dist-packages (from runipy==0.1.5->-r requirements.txt (line 13)) (2.1.3)\n",
            "Requirement already satisfied: pyzmq>=14.1.0 in /usr/local/lib/python3.6/dist-packages (from runipy==0.1.5->-r requirements.txt (line 13)) (17.0.0)\n",
            "Requirement already satisfied: blis<0.3.0,>=0.2.2 in /usr/local/lib/python3.6/dist-packages (from spacy->-r requirements.txt (line 16)) (0.2.4)\n",
            "Requirement already satisfied: wasabi<1.1.0,>=0.2.0 in /usr/local/lib/python3.6/dist-packages (from spacy->-r requirements.txt (line 16)) (0.2.2)\n",
            "Requirement already satisfied: thinc<7.1.0,>=7.0.2 in /usr/local/lib/python3.6/dist-packages (from spacy->-r requirements.txt (line 16)) (7.0.4)\n",
            "Requirement already satisfied: plac<1.0.0,>=0.9.6 in /usr/local/lib/python3.6/dist-packages (from spacy->-r requirements.txt (line 16)) (0.9.6)\n",
            "Requirement already satisfied: cymem<2.1.0,>=2.0.2 in /usr/local/lib/python3.6/dist-packages (from spacy->-r requirements.txt (line 16)) (2.0.2)\n",
            "Requirement already satisfied: jsonschema<3.1.0,>=2.6.0 in /usr/local/lib/python3.6/dist-packages (from spacy->-r requirements.txt (line 16)) (2.6.0)\n",
            "Requirement already satisfied: srsly<1.1.0,>=0.0.5 in /usr/local/lib/python3.6/dist-packages (from spacy->-r requirements.txt (line 16)) (0.0.6)\n",
            "Requirement already satisfied: murmurhash<1.1.0,>=0.28.0 in /usr/local/lib/python3.6/dist-packages (from spacy->-r requirements.txt (line 16)) (1.0.2)\n",
            "Requirement already satisfied: preshed<2.1.0,>=2.0.1 in /usr/local/lib/python3.6/dist-packages (from spacy->-r requirements.txt (line 16)) (2.0.1)\n",
            "Requirement already satisfied: setuptools in /usr/local/lib/python3.6/dist-packages (from tika==1.19->-r requirements.txt (line 18)) (41.0.1)\n",
            "Requirement already satisfied: scikit-learn in /usr/local/lib/python3.6/dist-packages (from sklearn->-r requirements.txt (line 20)) (0.21.2)\n",
            "Requirement already satisfied: jupyter-client in /usr/local/lib/python3.6/dist-packages (from ipykernel>=4.5.1->ipywidgets==7.4.2->-r requirements.txt (line 3)) (5.2.4)\n",
            "Requirement already satisfied: tornado>=4.0 in /usr/local/lib/python3.6/dist-packages (from ipykernel>=4.5.1->ipywidgets==7.4.2->-r requirements.txt (line 3)) (4.5.3)\n",
            "Requirement already satisfied: pexpect; sys_platform != \"win32\" in /usr/local/lib/python3.6/dist-packages (from ipython>=4.0.0; python_version >= \"3.3\"->ipywidgets==7.4.2->-r requirements.txt (line 3)) (4.7.0)\n",
            "Requirement already satisfied: prompt-toolkit<2.0.0,>=1.0.4 in /usr/local/lib/python3.6/dist-packages (from ipython>=4.0.0; python_version >= \"3.3\"->ipywidgets==7.4.2->-r requirements.txt (line 3)) (1.0.16)\n",
            "Requirement already satisfied: decorator in /usr/local/lib/python3.6/dist-packages (from ipython>=4.0.0; python_version >= \"3.3\"->ipywidgets==7.4.2->-r requirements.txt (line 3)) (4.4.0)\n",
            "Requirement already satisfied: simplegeneric>0.8 in /usr/local/lib/python3.6/dist-packages (from ipython>=4.0.0; python_version >= \"3.3\"->ipywidgets==7.4.2->-r requirements.txt (line 3)) (0.8.1)\n",
            "Requirement already satisfied: pickleshare in /usr/local/lib/python3.6/dist-packages (from ipython>=4.0.0; python_version >= \"3.3\"->ipywidgets==7.4.2->-r requirements.txt (line 3)) (0.7.5)\n",
            "Requirement already satisfied: jupyter-core in /usr/local/lib/python3.6/dist-packages (from nbformat>=4.2.0->ipywidgets==7.4.2->-r requirements.txt (line 3)) (4.4.0)\n",
            "Requirement already satisfied: ipython-genutils in /usr/local/lib/python3.6/dist-packages (from nbformat>=4.2.0->ipywidgets==7.4.2->-r requirements.txt (line 3)) (0.2.0)\n",
            "Requirement already satisfied: pandocfilters>=1.4.1 in /usr/local/lib/python3.6/dist-packages (from nbconvert->jupyter==1.0.0->-r requirements.txt (line 4)) (1.4.2)\n",
            "Requirement already satisfied: bleach in /usr/local/lib/python3.6/dist-packages (from nbconvert->jupyter==1.0.0->-r requirements.txt (line 4)) (3.1.0)\n",
            "Requirement already satisfied: defusedxml in /usr/local/lib/python3.6/dist-packages (from nbconvert->jupyter==1.0.0->-r requirements.txt (line 4)) (0.6.0)\n",
            "Requirement already satisfied: entrypoints>=0.2.2 in /usr/local/lib/python3.6/dist-packages (from nbconvert->jupyter==1.0.0->-r requirements.txt (line 4)) (0.3)\n",
            "Requirement already satisfied: mistune>=0.8.1 in /usr/local/lib/python3.6/dist-packages (from nbconvert->jupyter==1.0.0->-r requirements.txt (line 4)) (0.8.4)\n",
            "Requirement already satisfied: testpath in /usr/local/lib/python3.6/dist-packages (from nbconvert->jupyter==1.0.0->-r requirements.txt (line 4)) (0.4.2)\n",
            "Requirement already satisfied: terminado>=0.3.3; sys_platform != \"win32\" in /usr/local/lib/python3.6/dist-packages (from notebook->jupyter==1.0.0->-r requirements.txt (line 4)) (0.8.2)\n",
            "Requirement already satisfied: MarkupSafe>=0.23 in /usr/local/lib/python3.6/dist-packages (from Jinja2>=2.7.2->runipy==0.1.5->-r requirements.txt (line 13)) (1.1.1)\n",
            "Requirement already satisfied: joblib>=0.11 in /usr/local/lib/python3.6/dist-packages (from scikit-learn->sklearn->-r requirements.txt (line 20)) (0.13.2)\n",
            "Requirement already satisfied: ptyprocess>=0.5 in /usr/local/lib/python3.6/dist-packages (from pexpect; sys_platform != \"win32\"->ipython>=4.0.0; python_version >= \"3.3\"->ipywidgets==7.4.2->-r requirements.txt (line 3)) (0.6.0)\n",
            "Requirement already satisfied: wcwidth in /usr/local/lib/python3.6/dist-packages (from prompt-toolkit<2.0.0,>=1.0.4->ipython>=4.0.0; python_version >= \"3.3\"->ipywidgets==7.4.2->-r requirements.txt (line 3)) (0.1.7)\n",
            "Requirement already satisfied: webencodings in /usr/local/lib/python3.6/dist-packages (from bleach->nbconvert->jupyter==1.0.0->-r requirements.txt (line 4)) (0.5.1)\n",
            "Building wheels for collected packages: future, runipy, sqlalchemy, tika\n",
            "  Building wheel for future (setup.py) ... \u001b[?25l\u001b[?25hdone\n",
            "  Stored in directory: /root/.cache/pip/wheels/0c/61/d2/d6b7317325828fbb39ee6ad559dbe4664d0896da4721bf379e\n",
            "  Building wheel for runipy (setup.py) ... \u001b[?25l\u001b[?25hdone\n",
            "  Stored in directory: /root/.cache/pip/wheels/38/80/04/b2dbcd5df8afdb529918d2021094048a5917b6e76a6f7b452d\n",
            "  Building wheel for sqlalchemy (setup.py) ... \u001b[?25l\u001b[?25hdone\n",
            "  Stored in directory: /root/.cache/pip/wheels/6b/02/e3/7f1149be63131cdf6aaaa3330924a2683bb530188940569d66\n",
            "  Building wheel for tika (setup.py) ... \u001b[?25l\u001b[?25hdone\n",
            "  Stored in directory: /root/.cache/pip/wheels/b4/db/8a/3a3f0c0725448eaa92703e3dda71e29dc13a119ff6c1036848\n",
            "Successfully built future runipy sqlalchemy tika\n",
            "\u001b[31mERROR: google-colab 1.0.0 has requirement requests~=2.21.0, but you'll have requests 2.22.0 which is incompatible.\u001b[0m\n",
            "\u001b[31mERROR: datascience 0.10.6 has requirement folium==0.2.1, but you'll have folium 0.8.3 which is incompatible.\u001b[0m\n",
            "\u001b[31mERROR: albumentations 0.1.12 has requirement imgaug<0.2.7,>=0.2.5, but you'll have imgaug 0.2.9 which is incompatible.\u001b[0m\n",
            "Installing collected packages: soupsieve, beautifulsoup4, future, lxml, numpy, matplotlib, numba, py4j, requests, runipy, scipy, sqlalchemy, tika, tqdm\n",
            "  Found existing installation: beautifulsoup4 4.6.3\n",
            "    Uninstalling beautifulsoup4-4.6.3:\n",
            "      Successfully uninstalled beautifulsoup4-4.6.3\n",
            "  Found existing installation: future 0.16.0\n",
            "    Uninstalling future-0.16.0:\n",
            "      Successfully uninstalled future-0.16.0\n",
            "  Found existing installation: lxml 4.2.6\n",
            "    Uninstalling lxml-4.2.6:\n",
            "      Successfully uninstalled lxml-4.2.6\n",
            "  Found existing installation: numpy 1.16.4\n",
            "    Uninstalling numpy-1.16.4:\n",
            "      Successfully uninstalled numpy-1.16.4\n",
            "  Found existing installation: matplotlib 3.0.3\n",
            "    Uninstalling matplotlib-3.0.3:\n",
            "      Successfully uninstalled matplotlib-3.0.3\n",
            "  Found existing installation: numba 0.40.1\n",
            "    Uninstalling numba-0.40.1:\n",
            "      Successfully uninstalled numba-0.40.1\n",
            "  Found existing installation: requests 2.21.0\n",
            "    Uninstalling requests-2.21.0:\n",
            "      Successfully uninstalled requests-2.21.0\n",
            "  Found existing installation: scipy 1.3.0\n",
            "    Uninstalling scipy-1.3.0:\n",
            "      Successfully uninstalled scipy-1.3.0\n",
            "  Found existing installation: SQLAlchemy 1.3.4\n",
            "    Uninstalling SQLAlchemy-1.3.4:\n",
            "      Successfully uninstalled SQLAlchemy-1.3.4\n",
            "  Found existing installation: tqdm 4.28.1\n",
            "    Uninstalling tqdm-4.28.1:\n",
            "      Successfully uninstalled tqdm-4.28.1\n",
            "Successfully installed beautifulsoup4-4.7.1 future-0.17.1 lxml-4.3.3 matplotlib-3.0.1 numba-0.43.1 numpy-1.16.1 py4j-0.10.8.1 requests-2.22.0 runipy-0.1.5 scipy-1.2.1 soupsieve-1.9.2 sqlalchemy-1.3.3 tika-1.19 tqdm-4.32.1\n"
          ],
          "name": "stdout"
        },
        {
          "output_type": "display_data",
          "data": {
            "application/vnd.colab-display-data+json": {
              "pip_warning": {
                "packages": [
                  "matplotlib",
                  "mpl_toolkits",
                  "numpy",
                  "requests",
                  "tqdm"
                ]
              }
            }
          },
          "metadata": {
            "tags": []
          }
        }
      ]
    },
    {
      "cell_type": "code",
      "metadata": {
        "id": "CwylKnyV1xH-",
        "colab_type": "code",
        "outputId": "6b4a9706-e66e-4c7d-abd8-71aab6baec2a",
        "colab": {
          "base_uri": "https://localhost:8080/",
          "height": 170
        }
      },
      "source": [
        "!pip3 install git+https://github.com/HazyResearch/snorkel"
      ],
      "execution_count": 2,
      "outputs": [
        {
          "output_type": "stream",
          "text": [
            "Collecting git+https://github.com/HazyResearch/snorkel\n",
            "  Cloning https://github.com/HazyResearch/snorkel to /tmp/pip-req-build-00x9satp\n",
            "  Running command git clone -q https://github.com/HazyResearch/snorkel /tmp/pip-req-build-00x9satp\n",
            "Building wheels for collected packages: snorkel\n",
            "  Building wheel for snorkel (setup.py) ... \u001b[?25l\u001b[?25hdone\n",
            "  Stored in directory: /tmp/pip-ephem-wheel-cache-dz3aj9cq/wheels/62/6f/22/444271063e7be3c3547fd48ba1782c8053489be0e0226990b0\n",
            "Successfully built snorkel\n",
            "Installing collected packages: snorkel\n",
            "Successfully installed snorkel-0.7.0b0\n"
          ],
          "name": "stdout"
        }
      ]
    },
    {
      "cell_type": "code",
      "metadata": {
        "id": "pyPnpQ6t1-D-",
        "colab_type": "code",
        "colab": {}
      },
      "source": [
        "%load_ext autoreload\n",
        "%autoreload 2"
      ],
      "execution_count": 0,
      "outputs": []
    },
    {
      "cell_type": "code",
      "metadata": {
        "id": "EnphVByC2D4w",
        "colab_type": "code",
        "colab": {}
      },
      "source": [
        "import pandas as pd\n",
        "import numpy as np\n",
        "import matplotlib.pyplot as plt\n",
        "import re\n",
        "import sklearn\n",
        "import os"
      ],
      "execution_count": 0,
      "outputs": []
    },
    {
      "cell_type": "code",
      "metadata": {
        "id": "CMgHSV-a2JGw",
        "colab_type": "code",
        "colab": {
          "base_uri": "https://localhost:8080/",
          "height": 102
        },
        "outputId": "5ac934f1-f72a-4689-a1a9-ff5dec54b79b"
      },
      "source": [
        "!pip3 install treedlib"
      ],
      "execution_count": 6,
      "outputs": [
        {
          "output_type": "stream",
          "text": [
            "Collecting treedlib\n",
            "  Downloading https://files.pythonhosted.org/packages/20/e8/dd387c84b91e6dd46f8c20ea94e58be2975eb9b80174edb4742441f3f82e/treedlib-0.1.1-py3-none-any.whl\n",
            "Requirement already satisfied: lxml in /usr/local/lib/python3.6/dist-packages (from treedlib) (4.3.3)\n",
            "Installing collected packages: treedlib\n",
            "Successfully installed treedlib-0.1.1\n"
          ],
          "name": "stdout"
        }
      ]
    },
    {
      "cell_type": "code",
      "metadata": {
        "id": "quOwouvn2WAK",
        "colab_type": "code",
        "colab": {
          "base_uri": "https://localhost:8080/",
          "height": 102
        },
        "outputId": "c9216fb5-1a93-444e-c4f1-867eb6b423a7"
      },
      "source": [
        "!pip3 install numbskull"
      ],
      "execution_count": 7,
      "outputs": [
        {
          "output_type": "stream",
          "text": [
            "Collecting numbskull\n",
            "  Downloading https://files.pythonhosted.org/packages/c8/56/03f98485dec32d15522a59d35d87107a46375288a7a4ee1fffde7ff8fff2/numbskull-0.1.1-py3-none-any.whl\n",
            "Requirement already satisfied: future in /usr/local/lib/python3.6/dist-packages (from numbskull) (0.17.1)\n",
            "Installing collected packages: numbskull\n",
            "Successfully installed numbskull-0.1.1\n"
          ],
          "name": "stdout"
        }
      ]
    },
    {
      "cell_type": "code",
      "metadata": {
        "id": "Prngmc0W2Fxy",
        "colab_type": "code",
        "outputId": "9917d800-6e7b-4be0-c30f-af9e7a3faa1f",
        "colab": {
          "base_uri": "https://localhost:8080/",
          "height": 170
        }
      },
      "source": [
        "from sklearn.model_selection import train_test_split\n",
        "from collections import Counter\n",
        "from snorkel import SnorkelSession\n",
        "from snorkel.models import candidate_subclass, Context, Candidate, StableLabel\n",
        "from snorkel.contrib.models.text import RawText\n",
        "from snorkel.annotations import LabelAnnotator\n",
        "from snorkel.learning import GenerativeModel\n",
        "from snorkel.annotations import save_marginals\n",
        "from snorkel.learning.tensorflow import TextRNN"
      ],
      "execution_count": 8,
      "outputs": [
        {
          "output_type": "stream",
          "text": [
            "WARNING: Logging before flag parsing goes to stderr.\n",
            "W0627 17:46:31.018722 140534982911872 lazy_loader.py:50] \n",
            "The TensorFlow contrib module will not be included in TensorFlow 2.0.\n",
            "For more information, please see:\n",
            "  * https://github.com/tensorflow/community/blob/master/rfcs/20180907-contrib-sunset.md\n",
            "  * https://github.com/tensorflow/addons\n",
            "  * https://github.com/tensorflow/io (for I/O related ops)\n",
            "If you depend on functionality not listed there, please file an issue.\n",
            "\n"
          ],
          "name": "stderr"
        }
      ]
    },
    {
      "cell_type": "code",
      "metadata": {
        "id": "d1TWYOoI2Tnj",
        "colab_type": "code",
        "colab": {
          "base_uri": "https://localhost:8080/",
          "height": 68
        },
        "outputId": "c79ddcdd-b287-4ebe-e425-ec9a3785a68f"
      },
      "source": [
        "data_dir = \"./data\"\n",
        "if not os.path.exists(data_dir):\n",
        "    os.mkdir(data_dir)\n",
        "    !curl https://data.consumerfinance.gov/api/views/s6ew-h6mp/rows.csv?accessType=DOWNLOAD > ./data/complaints.csv"
      ],
      "execution_count": 9,
      "outputs": [
        {
          "output_type": "stream",
          "text": [
            "  % Total    % Received % Xferd  Average Speed   Time    Time     Time  Current\n",
            "                                 Dload  Upload   Total   Spent    Left  Speed\n",
            "100  721M    0  721M    0     0  7857k      0 --:--:--  0:01:34 --:--:-- 6200k\n"
          ],
          "name": "stdout"
        }
      ]
    },
    {
      "cell_type": "code",
      "metadata": {
        "id": "T7govEII2gM3",
        "colab_type": "code",
        "outputId": "151c90c5-57de-430e-8f81-c64e33aa30ba",
        "colab": {
          "base_uri": "https://localhost:8080/",
          "height": 479
        }
      },
      "source": [
        "complaints = pd.read_csv(os.path.join(data_dir,'complaints.csv'))\n",
        "complaints.info()\n",
        "complaints.shape"
      ],
      "execution_count": 10,
      "outputs": [
        {
          "output_type": "stream",
          "text": [
            "/usr/local/lib/python3.6/dist-packages/IPython/core/interactiveshell.py:2718: DtypeWarning: Columns (4,5,6,11,16) have mixed types. Specify dtype option on import or set low_memory=False.\n",
            "  interactivity=interactivity, compiler=compiler, result=result)\n"
          ],
          "name": "stderr"
        },
        {
          "output_type": "stream",
          "text": [
            "<class 'pandas.core.frame.DataFrame'>\n",
            "RangeIndex: 1318982 entries, 0 to 1318981\n",
            "Data columns (total 18 columns):\n",
            "Date received                   1318982 non-null object\n",
            "Product                         1318982 non-null object\n",
            "Sub-product                     1083816 non-null object\n",
            "Issue                           1318982 non-null object\n",
            "Sub-issue                       783385 non-null object\n",
            "Consumer complaint narrative    391465 non-null object\n",
            "Company public response         468379 non-null object\n",
            "Company                         1318982 non-null object\n",
            "State                           1298328 non-null object\n",
            "ZIP code                        1198657 non-null object\n",
            "Tags                            180500 non-null object\n",
            "Consumer consent provided?      713360 non-null object\n",
            "Submitted via                   1318982 non-null object\n",
            "Date sent to company            1318982 non-null object\n",
            "Company response to consumer    1318975 non-null object\n",
            "Timely response?                1318982 non-null object\n",
            "Consumer disputed?              768501 non-null object\n",
            "Complaint ID                    1318982 non-null int64\n",
            "dtypes: int64(1), object(17)\n",
            "memory usage: 181.1+ MB\n"
          ],
          "name": "stdout"
        },
        {
          "output_type": "execute_result",
          "data": {
            "text/plain": [
              "(1318982, 18)"
            ]
          },
          "metadata": {
            "tags": []
          },
          "execution_count": 10
        }
      ]
    },
    {
      "cell_type": "code",
      "metadata": {
        "id": "7BcTLpTu2iV-",
        "colab_type": "code",
        "colab": {}
      },
      "source": [
        "products_w_narrative = complaints[complaints['Product'].notnull() & \n",
        "                                  complaints['Consumer complaint narrative'].notnull()]"
      ],
      "execution_count": 0,
      "outputs": []
    },
    {
      "cell_type": "code",
      "metadata": {
        "id": "aswvj9bu2mJt",
        "colab_type": "code",
        "outputId": "d8f6653b-fa5c-46c0-9cbc-d73b4f94b812",
        "colab": {
          "base_uri": "https://localhost:8080/",
          "height": 493
        }
      },
      "source": [
        "print(products_w_narrative['Product'].unique())\n",
        "print(products_w_narrative['Product'].value_counts())"
      ],
      "execution_count": 12,
      "outputs": [
        {
          "output_type": "stream",
          "text": [
            "['Debt collection'\n",
            " 'Credit reporting, credit repair services, or other personal consumer reports'\n",
            " 'Credit card or prepaid card' 'Checking or savings account'\n",
            " 'Vehicle loan or lease' 'Student loan'\n",
            " 'Payday loan, title loan, or personal loan' 'Mortgage'\n",
            " 'Money transfer, virtual currency, or money service' 'Credit reporting'\n",
            " 'Credit card' 'Bank account or service' 'Consumer Loan' 'Prepaid card'\n",
            " 'Money transfers' 'Payday loan' 'Other financial service'\n",
            " 'Virtual currency']\n",
            "Credit reporting, credit repair services, or other personal consumer reports    95835\n",
            "Debt collection                                                                 88284\n",
            "Mortgage                                                                        53652\n",
            "Credit reporting                                                                31588\n",
            "Credit card or prepaid card                                                     22208\n",
            "Student loan                                                                    22161\n",
            "Credit card                                                                     18838\n",
            "Bank account or service                                                         14885\n",
            "Checking or savings account                                                     13379\n",
            "Consumer Loan                                                                    9474\n",
            "Vehicle loan or lease                                                            5934\n",
            "Money transfer, virtual currency, or money service                               5632\n",
            "Payday loan, title loan, or personal loan                                        4593\n",
            "Payday loan                                                                      1747\n",
            "Money transfers                                                                  1497\n",
            "Prepaid card                                                                     1450\n",
            "Other financial service                                                           292\n",
            "Virtual currency                                                                   16\n",
            "Name: Product, dtype: int64\n"
          ],
          "name": "stdout"
        }
      ]
    },
    {
      "cell_type": "code",
      "metadata": {
        "id": "mGAhdow-2oT2",
        "colab_type": "code",
        "colab": {}
      },
      "source": [
        "# credit reporting only\n",
        "credit_reporting = products_w_narrative[products_w_narrative['Product'] == 'Credit reporting, ' + \n",
        "                                 'credit repair services, or other personal consumer reports']\n",
        "# mortgage only\n",
        "mortgage = products_w_narrative[products_w_narrative['Product'] == 'Mortgage']"
      ],
      "execution_count": 0,
      "outputs": []
    },
    {
      "cell_type": "code",
      "metadata": {
        "id": "UT9hYjQD2qvF",
        "colab_type": "code",
        "colab": {}
      },
      "source": [
        "credit_narrative = credit_reporting['Consumer complaint narrative'].values\n",
        "positive_labels = pd.Series(np.ones(credit_narrative.shape[0]))\n",
        "positive_df = pd.DataFrame({'complaint': credit_narrative, 'label': positive_labels})"
      ],
      "execution_count": 0,
      "outputs": []
    },
    {
      "cell_type": "code",
      "metadata": {
        "id": "Ev-bLnW02skW",
        "colab_type": "code",
        "colab": {}
      },
      "source": [
        "mortgage_narrative = mortgage['Consumer complaint narrative'].values\n",
        "negative_labels = pd.Series(np.full(mortgage_narrative.shape[0], -1))\n",
        "negative_df = pd.DataFrame({'complaint': mortgage_narrative, 'label': negative_labels})"
      ],
      "execution_count": 0,
      "outputs": []
    },
    {
      "cell_type": "code",
      "metadata": {
        "id": "2ZZP4-on2ukd",
        "colab_type": "code",
        "outputId": "80171e9d-cb0e-4bdc-fae0-504275972a3e",
        "colab": {
          "base_uri": "https://localhost:8080/",
          "height": 34
        }
      },
      "source": [
        "complaints_df = pd.concat([positive_df, negative_df], ignore_index=True)\n",
        "complaints_df.shape"
      ],
      "execution_count": 16,
      "outputs": [
        {
          "output_type": "execute_result",
          "data": {
            "text/plain": [
              "(149487, 2)"
            ]
          },
          "metadata": {
            "tags": []
          },
          "execution_count": 16
        }
      ]
    },
    {
      "cell_type": "code",
      "metadata": {
        "id": "6rX87qAw2wvc",
        "colab_type": "code",
        "outputId": "e616054d-93f7-47de-d504-5825c35e4869",
        "colab": {
          "base_uri": "https://localhost:8080/",
          "height": 68
        }
      },
      "source": [
        "complaints_df['label'].value_counts()"
      ],
      "execution_count": 17,
      "outputs": [
        {
          "output_type": "execute_result",
          "data": {
            "text/plain": [
              " 1.0    95835\n",
              "-1.0    53652\n",
              "Name: label, dtype: int64"
            ]
          },
          "metadata": {
            "tags": []
          },
          "execution_count": 17
        }
      ]
    },
    {
      "cell_type": "code",
      "metadata": {
        "id": "vkY-5o7D2zFk",
        "colab_type": "code",
        "colab": {}
      },
      "source": [
        "train, testval = train_test_split(complaints_df, test_size=0.2, random_state=123)\n",
        "dev, test = train_test_split(testval, test_size=0.5, random_state=123)"
      ],
      "execution_count": 0,
      "outputs": []
    },
    {
      "cell_type": "code",
      "metadata": {
        "id": "i70mzuQ421Hr",
        "colab_type": "code",
        "colab": {}
      },
      "source": [
        "POSITIVE_WORDS = r'\\bcredit\\b|\\breport|\\baddress\\b|\\bcreditor\\b|\\bexperian\\b|\\btransunion\\b|\\bequifax\\b|\\bfcra\\b|\\bcollector\\b|\\bdebt\\b|\\bconsumer\\b'              \n",
        "POSITIVE_PHRASE = r\"\\bcredit (report|agency|reporting|bureau|agencies)\"\n",
        "NEGATIVE_WORDS = r'\\bloan\\b|\\bmortgage\\b|\\bhouse\\b|\\bhome\\b|\\bprepayment\\b|\\bappraise|\\bforeclos\\btax'\n",
        "POSITIVE_ACTIONS = r'\\bremov|\\bdispute\\b'\n",
        "NEGATIVE_ACTIONS = r'\\bpredator|\\bmodifi\\brefinanc'\n",
        "\n",
        "FRAUD = r'\\bfraudulent (account|charges)'\n",
        "MONEYXFER = r'\\bmoney transfer'\n",
        "CREDIT_REPORTING = r'\\b(identity has been compromise(|d)|data breaches|inquiries to businesses|mistakes appear in my report|reporting incorrectly|dispute(|d)|(t|T)ransunion|derogatory|experian|identity theft)'\n",
        "CREDIT_REPAIR = r'\\b(credit repair|hard inquiry|inquiries to businesses|mistakes appear in my report|reporting incorrectly)'\n"
      ],
      "execution_count": 0,
      "outputs": []
    },
    {
      "cell_type": "code",
      "metadata": {
        "id": "C0a_eu1223tT",
        "colab_type": "code",
        "colab": {}
      },
      "source": [
        "def lf_credit(complaint):\n",
        "    if re.search(POSITIVE_WORDS, str(complaint), re.IGNORECASE):\n",
        "        return 1\n",
        "    else:\n",
        "        return 0\n",
        "\n",
        "def lf_credit_phrase(complaint):\n",
        "    if re.search(POSITIVE_PHRASE, str(complaint), re.IGNORECASE):\n",
        "        return 1\n",
        "    else:\n",
        "        return 0\n",
        "\n",
        "def lf_credit_actions(complaint):\n",
        "    if re.search(POSITIVE_ACTIONS, str(complaint), re.IGNORECASE):\n",
        "        return 1\n",
        "    else:\n",
        "        return 0\n",
        "\n",
        "def lf_mortgage(complaint):\n",
        "    if re.search(NEGATIVE_WORDS, str(complaint), re.IGNORECASE):\n",
        "        return -1\n",
        "    else:\n",
        "        return 0\n",
        "\n",
        "def lf_mortgage_actions(complaint):\n",
        "    if re.search(NEGATIVE_ACTIONS, str(complaint), re.IGNORECASE):\n",
        "        return -1\n",
        "    else:\n",
        "        return 0\n",
        "    \n",
        "def lf_fraud(complaint):\n",
        "    if (re.search(FRAUD, str(complaint), re.IGNORECASE)\n",
        "        and not re.search(MONEYXFER, str(complaint), re.IGNORECASE)):\n",
        "        return 1\n",
        "    elif (re.search(FRAUD, str(complaint), re.IGNORECASE) \n",
        "          and re.search(MONEYXFER, str(complaint), re.IGNORECASE)):\n",
        "        return -1\n",
        "    else:\n",
        "        return 0\n",
        "    \n",
        "def lf_reporting(complaint):\n",
        "    if (re.search(CREDIT_REPORTING, str(complaint), re.IGNORECASE) \n",
        "        and not re.search(MONEYXFER, str(complaint), re.IGNORECASE)):\n",
        "        return 1\n",
        "    elif (re.search(CREDIT_REPORTING, str(complaint), re.IGNORECASE) \n",
        "           and re.search(MONEYXFER, str(complaint), re.IGNORECASE)):\n",
        "        return -1\n",
        "    else:\n",
        "        return 0\n",
        "    \n",
        "def lf_repair(complaint):\n",
        "    if (re.search(CREDIT_REPAIR, str(complaint), re.IGNORECASE) \n",
        "        and not re.search(MONEYXFER, str(complaint), re.IGNORECASE) \n",
        "        and not re.search(CREDIT_REPORTING, str(complaint), re.IGNORECASE)\n",
        "       ):\n",
        "        return 1\n",
        "    elif ((re.search(CREDIT_REPAIR, str(complaint), re.IGNORECASE) \n",
        "           and re.search(MONEYXFER, str(complaint), re.IGNORECASE)) \n",
        "          or \n",
        "          (re.search(CREDIT_REPAIR, str(complaint), re.IGNORECASE) \n",
        "           and re.search(CREDIT_REPORTING, str(complaint), re.IGNORECASE))\n",
        "         ):\n",
        "        return -1\n",
        "    else:\n",
        "        return 0"
      ],
      "execution_count": 0,
      "outputs": []
    },
    {
      "cell_type": "code",
      "metadata": {
        "id": "gjVSxCjz26NK",
        "colab_type": "code",
        "outputId": "9b913554-af88-4433-a5bc-60302e1ad4e1",
        "colab": {
          "base_uri": "https://localhost:8080/",
          "height": 51
        }
      },
      "source": [
        "session = SnorkelSession()\n",
        "\n",
        "values = list(complaints_df.label.unique())\n",
        "print(values)\n",
        "\n",
        "# snorkel candidate, value if none defaults to binary (true, false)\n",
        "Narrative = candidate_subclass('Narrative', ['narrative'], values=values)\n",
        "\n",
        "# Make sure DB is cleared\n",
        "session.query(Context).delete()\n",
        "session.query(Candidate).delete()\n",
        "session.query(StableLabel).delete()"
      ],
      "execution_count": 21,
      "outputs": [
        {
          "output_type": "stream",
          "text": [
            "[1.0, -1.0]\n"
          ],
          "name": "stdout"
        },
        {
          "output_type": "execute_result",
          "data": {
            "text/plain": [
              "0"
            ]
          },
          "metadata": {
            "tags": []
          },
          "execution_count": 21
        }
      ]
    },
    {
      "cell_type": "code",
      "metadata": {
        "id": "Jypxk-b_3BAJ",
        "colab_type": "code",
        "outputId": "8f9d1838-ee6b-4c63-96c4-05ea71000d6a",
        "colab": {
          "base_uri": "https://localhost:8080/",
          "height": 34
        }
      },
      "source": [
        "train_index = train.index\n",
        "train.index.str = np.asarray(str(x) for x in train.index)\n",
        "train_complaints = train.values[:, 0]\n",
        "train_labels = train.values[:, 1]\n",
        "\n",
        "for element in zip(train_index, train_complaints, train_labels):\n",
        "    split = 0\n",
        "    raw_text = RawText(stable_id=element[0], name=element[0], text=str(element[1]))\n",
        "    narrative = Narrative(narrative=raw_text, split=split)\n",
        "    session.add(narrative)\n",
        "    context_stable_id = \"~~\".join([str(element[0]), str(element[0])])\n",
        "    session.add(StableLabel(context_stable_ids=context_stable_id, \n",
        "                            annotator_name='gold',\n",
        "                            split=0,\n",
        "                            value=element[2]))\n",
        "dev_index = dev.index\n",
        "dev.index.str = np.asarray(str(x) for x in dev.index)\n",
        "dev_complaints = dev.values[:, 0]\n",
        "dev_labels = dev.values[:, 1]\n",
        "\n",
        "for element in zip(dev_index, dev_complaints, dev_labels):\n",
        "    split = 1\n",
        "    raw_text = RawText(stable_id=element[0], name=element[0], text=str(element[1]))\n",
        "    narrative = Narrative(narrative=raw_text, split=split)\n",
        "    session.add(narrative)\n",
        "    context_stable_id = \"~~\".join([str(element[0]), str(element[0])])\n",
        "    session.add(StableLabel(context_stable_ids=context_stable_id, \n",
        "                            annotator_name='gold',\n",
        "                            split=1,\n",
        "                            value=element[2]))\n",
        "\n",
        "test_index = test.index\n",
        "test.index.str = np.asarray(str(x) for x in test.index)\n",
        "test_complaints = test.values[:, 0]\n",
        "test_labels = test.values[:, 1]\n",
        "\n",
        "for element in zip(test_index, test_complaints, test_labels):\n",
        "    split = 2\n",
        "    raw_text = RawText(stable_id=element[0], name=element[0], text=str(element[1]))\n",
        "    narrative = Narrative(narrative=raw_text, split=split)\n",
        "    session.add(narrative)\n",
        "    context_stable_id = \"~~\".join([str(element[0]), str(element[0])])\n",
        "    session.add(StableLabel(context_stable_ids=context_stable_id, \n",
        "                            annotator_name='gold',\n",
        "                            split=2,\n",
        "                            value=element[2]))\n",
        "\n",
        "session.commit()\n",
        "\n",
        "# number of datapoints\n",
        "print(session.query(Narrative).count())\n",
        "# load ground truth labels\n",
        "train_cand_labels = train_labels\n",
        "dev_cand_labels = dev_labels\n",
        "test_cand_labels = test_labels"
      ],
      "execution_count": 22,
      "outputs": [
        {
          "output_type": "stream",
          "text": [
            "149487\n"
          ],
          "name": "stdout"
        }
      ]
    },
    {
      "cell_type": "code",
      "metadata": {
        "id": "8--icqpq3JuM",
        "colab_type": "code",
        "outputId": "52855b28-0828-4cf7-9056-3aa0ee967100",
        "colab": {
          "base_uri": "https://localhost:8080/",
          "height": 34
        }
      },
      "source": [
        "# test one labeling function\n",
        "labeled = []\n",
        "for c in session.query(Narrative).filter(Narrative.split == 1).all():\n",
        "    if lf_credit(c) != 0:\n",
        "        labeled.append(c)\n",
        "print(\"Number labeled:\", len(labeled))"
      ],
      "execution_count": 23,
      "outputs": [
        {
          "output_type": "stream",
          "text": [
            "Number labeled: 11218\n"
          ],
          "name": "stdout"
        }
      ]
    },
    {
      "cell_type": "code",
      "metadata": {
        "id": "pQnhzeaf3nrt",
        "colab_type": "code",
        "outputId": "1bc45b75-3e32-4a1c-e14f-ed55c0641c23",
        "colab": {
          "base_uri": "https://localhost:8080/",
          "height": 68
        }
      },
      "source": [
        "LFs = [lf_credit, lf_credit_phrase, lf_credit_actions, lf_mortgage, lf_mortgage_actions, lf_fraud, lf_reporting, lf_repair]\n",
        "# apply labeling functions\n",
        "labeler = LabelAnnotator(lfs = LFs)\n",
        "L_train = labeler.apply(split=0)"
      ],
      "execution_count": 24,
      "outputs": [
        {
          "output_type": "stream",
          "text": [
            "  0%|          | 30/119589 [00:00<06:45, 294.59it/s]"
          ],
          "name": "stderr"
        },
        {
          "output_type": "stream",
          "text": [
            "Clearing existing...\n",
            "Running UDF...\n"
          ],
          "name": "stdout"
        },
        {
          "output_type": "stream",
          "text": [
            "100%|██████████| 119589/119589 [06:45<00:00, 295.14it/s]\n"
          ],
          "name": "stderr"
        }
      ]
    },
    {
      "cell_type": "code",
      "metadata": {
        "id": "fCtH_AV-3scM",
        "colab_type": "code",
        "outputId": "7f16f9d0-8859-4127-a1e9-927c0491a2ec",
        "colab": {
          "base_uri": "https://localhost:8080/",
          "height": 258
        }
      },
      "source": [
        "# see what's going on\n",
        "print(L_train.get_candidate(session, 0))\n",
        "print(L_train.get_key(session, 0))\n",
        "print(L_train.lf_stats(session))\n"
      ],
      "execution_count": 25,
      "outputs": [
        {
          "output_type": "stream",
          "text": [
            "Narrative(Raw Text BANK OF AMERICA required me to apply for the Hardest Hit Fund before they would assist me with a loan modification. Once my loan was current because of the Hardest Hit funds, BOA refused to give me loan modifications options I could have qualified for with my loan current and up to date because of the Hardest Hit funds. My only income is XXXX and child support. They have increased my income by 125 % to determine my new monthly mortgage payment because they claim it is not taxable. \n",
            "Even with this inflated amount, they are proposing a 90 day trial where I make a mortgage payment to BOA that is 39.75 % of this inflated gross income figure they have come up with. \n",
            "It 's 56 % of the net income that my family has to live on each month. I do n't see how this is an FHA compliant modification. Because I asked a question about the income numbers they used, BOA is trying to claim I 've opted out of the trial offered. I did not XXXX out of anything. BOA asked me to fax my inquiry to their opt-out team to be reviewed. This process should be this complicated. It should be geared to protect the consumer/citizen. I need action and help to make this right. I have XXXX children and stability is paramount to the well being of my family.)\n",
            "LabelKey (lf_credit)\n",
            "                     j  Coverage  Overlaps  Conflicts\n",
            "lf_credit            0  0.752837  0.675413   0.273980\n",
            "lf_credit_phrase     1  0.438519  0.438519   0.128724\n",
            "lf_credit_actions    2  0.328542  0.322496   0.098680\n",
            "lf_mortgage          3  0.455059  0.281974   0.277743\n",
            "lf_mortgage_actions  4  0.011740  0.011623   0.007392\n",
            "lf_fraud             5  0.020746  0.020445   0.003228\n",
            "lf_reporting         6  0.324077  0.321016   0.086965\n",
            "lf_repair            7  0.027561  0.026976   0.018522\n"
          ],
          "name": "stdout"
        }
      ]
    },
    {
      "cell_type": "code",
      "metadata": {
        "id": "Bbo3wzLj5ukd",
        "colab_type": "code",
        "outputId": "18e972aa-8db8-4885-d0e4-72a603b98475",
        "colab": {
          "base_uri": "https://localhost:8080/",
          "height": 34
        }
      },
      "source": [
        "gen_model = GenerativeModel()\n",
        "gen_model.train(L_train, epochs=20, decay=0.95, step_size=0.1/L_train.shape[0], reg_param=1e-6)"
      ],
      "execution_count": 26,
      "outputs": [
        {
          "output_type": "stream",
          "text": [
            "Inferred cardinality: 2\n"
          ],
          "name": "stdout"
        }
      ]
    },
    {
      "cell_type": "code",
      "metadata": {
        "id": "t7-pU4eS5_Na",
        "colab_type": "code",
        "outputId": "3f072fe7-0bf9-4c66-eb05-93e96c67ca91",
        "colab": {
          "base_uri": "https://localhost:8080/",
          "height": 269
        }
      },
      "source": [
        "train_marginals = gen_model.marginals(L_train)\n",
        "plt.hist(train_marginals, bins=20)\n",
        "plt.show()"
      ],
      "execution_count": 27,
      "outputs": [
        {
          "output_type": "display_data",
          "data": {
            "image/png": "[encoded data removed]",
            "text/plain": [
              "<Figure size 432x288 with 1 Axes>"
            ]
          },
          "metadata": {
            "tags": []
          }
        }
      ]
    },
    {
      "cell_type": "code",
      "metadata": {
        "id": "Wu6pQmGf8a60",
        "colab_type": "code",
        "outputId": "6ba6f7ee-ea4b-4f72-a5a7-c411c8b31111",
        "colab": {
          "base_uri": "https://localhost:8080/",
          "height": 34
        }
      },
      "source": [
        "accuracy = gen_model.score(L_train, train_cand_labels)\n",
        "accuracy[0]\n",
        "print(\"precision: {:.5f}\".format(accuracy[0]), \"recall: {:.5f}\".format(accuracy[1]), \n",
        "      \"F-beta: {:.5f}\".format(accuracy[2]))"
      ],
      "execution_count": 28,
      "outputs": [
        {
          "output_type": "stream",
          "text": [
            "precision: 0.64810 recall: 0.96872 F-beta: 0.77662\n"
          ],
          "name": "stdout"
        }
      ]
    },
    {
      "cell_type": "code",
      "metadata": {
        "id": "jAHOrwAi8wia",
        "colab_type": "code",
        "outputId": "773b8b6c-a102-4245-9926-b20d4cdde392",
        "colab": {
          "base_uri": "https://localhost:8080/",
          "height": 68
        }
      },
      "source": [
        "# Collect the majority vote answer for each complaint\n",
        "mv = []\n",
        "for i in range(L_train.shape[0]):\n",
        "    if np.diff(L_train[i].indptr) != 0:   #indicates that there is no coverage for a particular datapoint\n",
        "        c = Counter([L_train[i,j] for j in L_train[i].nonzero()[1]])\n",
        "        #print(c)\n",
        "        mv.append(c.most_common(1)[0][0])\n",
        "        #print(c.most_common(1)[0][0])\n",
        "    else:\n",
        "        mv.append(-1) # assume that no label is equivalent to a negative example\n",
        "\n",
        "mv = np.array(mv)\n",
        "\n",
        "# Count the number correct by majority vote\n",
        "n_correct = np.sum([1 for i in range(L_train.shape[0]) if mv[i] == train_cand_labels[i]])\n",
        "print (\"Accuracy:{}\".format(n_correct / float(L_train.shape[0])))\n",
        "print (\"Number incorrect:{}\".format(L_train.shape[0] - n_correct))\n",
        "\n",
        "# Compute and return precision, recall, and F1 score\n",
        "tp = (0.5 * (mv * train_cand_labels + 1))[mv == 1].sum()\n",
        "pred_pos = mv[mv == 1].sum()\n",
        "p = tp / float(pred_pos) if pred_pos > 0 else 0.0\n",
        "pos = train_cand_labels[train_cand_labels == 1].sum()\n",
        "r = tp / float(pos) if pos > 0 else 0.0\n",
        "\n",
        "# Compute general F-beta score\n",
        "beta=1\n",
        "if p + r > 0:\n",
        "    f_beta = (1 + beta**2) * ((p * r) / (((beta**2) * p) + r))\n",
        "else:\n",
        "    f_beta = 0.0\n",
        "p, r, f_beta\n",
        "print(\"precision: {:.5f}\".format(p), \"recall: {:.5f}\".format(r), \"F-beta: {:.5f}\".format(f_beta))\n"
      ],
      "execution_count": 29,
      "outputs": [
        {
          "output_type": "stream",
          "text": [
            "Accuracy:0.8140548043716396\n",
            "Number incorrect:22237\n",
            "precision: 0.79189 recall: 0.96237 F-beta: 0.86885\n"
          ],
          "name": "stdout"
        }
      ]
    },
    {
      "cell_type": "code",
      "metadata": {
        "id": "SFUbHlys9M4x",
        "colab_type": "code",
        "outputId": "38a6364c-88ea-475e-fb37-a7f773f06125",
        "colab": {
          "base_uri": "https://localhost:8080/",
          "height": 272
        }
      },
      "source": [
        "L_dev = labeler.apply(split=1)\n",
        "# score it\n",
        "tp, fp, tn, fn = gen_model.error_analysis(session, L_dev, dev_cand_labels)"
      ],
      "execution_count": 30,
      "outputs": [
        {
          "output_type": "stream",
          "text": [
            "Clearing existing...\n"
          ],
          "name": "stdout"
        },
        {
          "output_type": "stream",
          "text": [
            "  0%|          | 31/14949 [00:00<00:48, 308.02it/s]"
          ],
          "name": "stderr"
        },
        {
          "output_type": "stream",
          "text": [
            "Running UDF...\n"
          ],
          "name": "stdout"
        },
        {
          "output_type": "stream",
          "text": [
            "100%|██████████| 14949/14949 [00:50<00:00, 297.71it/s]\n"
          ],
          "name": "stderr"
        },
        {
          "output_type": "stream",
          "text": [
            "========================================\n",
            "Scores (Un-adjusted)\n",
            "========================================\n",
            "Pos. class accuracy: 0.966\n",
            "Neg. class accuracy: 0.0626\n",
            "Precision            0.648\n",
            "Recall               0.966\n",
            "F1                   0.775\n",
            "----------------------------------------\n",
            "TP: 9254 | FP: 5032 | TN: 336 | FN: 327\n",
            "========================================\n",
            "\n"
          ],
          "name": "stdout"
        }
      ]
    },
    {
      "cell_type": "code",
      "metadata": {
        "id": "8yNNLBQ89vVZ",
        "colab_type": "code",
        "outputId": "b37fac58-3767-4420-f665-07001debd866",
        "colab": {
          "base_uri": "https://localhost:8080/",
          "height": 34
        }
      },
      "source": [
        "save_marginals(session, L_train, train_marginals)"
      ],
      "execution_count": 31,
      "outputs": [
        {
          "output_type": "stream",
          "text": [
            "Saved 119589 marginals\n"
          ],
          "name": "stdout"
        }
      ]
    },
    {
      "cell_type": "code",
      "metadata": {
        "id": "PO3eCdQp924i",
        "colab_type": "code",
        "colab": {}
      },
      "source": [
        "train_cands = session.query(Narrative).filter(Narrative.split == 0).order_by(Narrative.id).all()\n",
        "dev_cands   = session.query(Narrative).filter(Narrative.split == 1).order_by(Narrative.id).all()\n",
        "test_cands  = session.query(Narrative).filter(Narrative.split == 2).order_by(Narrative.id).all()\n"
      ],
      "execution_count": 0,
      "outputs": []
    },
    {
      "cell_type": "code",
      "metadata": {
        "id": "zvoqgKfq932D",
        "colab_type": "code",
        "outputId": "72af9c38-3058-4060-e7c8-36e8cc7c166b",
        "colab": {
          "base_uri": "https://localhost:8080/",
          "height": 615
        }
      },
      "source": [
        "train_kwargs = {\n",
        "    'lr':         0.01,\n",
        "    'dim':        100,\n",
        "    'n_epochs':   10,\n",
        "    'dropout':    0.2,\n",
        "    'print_freq': 5,\n",
        "    'seed': 123,\n",
        "    'batch_size': 25\n",
        "}\n",
        "\n",
        "lstm = TextRNN(seed=123, cardinality=Narrative.cardinality)\n",
        "# Note: Y_train are the marginals but Y_dev are the gold/ ground truth labels\n",
        "lstm.train(X_train=train_cands, Y_train=train_marginals, X_dev=dev_cands, Y_dev=dev_cand_labels, **train_kwargs)"
      ],
      "execution_count": 0,
      "outputs": [
        {
          "output_type": "stream",
          "text": [
            "/usr/local/lib/python3.6/dist-packages/snorkel/learning/tensorflow/rnn/rnn_base.py:36: UserWarning: Candidate 117068 has argument past max length for model:\t[arg ends at index 5542; max len 5542]\n",
            "  warnings.warn('\\t'.join([w.format(i), info]))\n",
            "W0627 18:10:52.368278 140534982911872 deprecation_wrapper.py:119] From /usr/local/lib/python3.6/dist-packages/snorkel/learning/tensorflow/noise_aware_model.py:114: The name tf.set_random_seed is deprecated. Please use tf.compat.v1.set_random_seed instead.\n",
            "\n",
            "W0627 18:10:52.369294 140534982911872 deprecation_wrapper.py:119] From /usr/local/lib/python3.6/dist-packages/snorkel/learning/tensorflow/rnn/rnn_base.py:70: The name tf.placeholder is deprecated. Please use tf.compat.v1.placeholder instead.\n",
            "\n",
            "W0627 18:10:52.381653 140534982911872 deprecation_wrapper.py:119] From /usr/local/lib/python3.6/dist-packages/snorkel/learning/tensorflow/rnn/rnn_base.py:79: The name tf.random_normal is deprecated. Please use tf.random.normal instead.\n",
            "\n",
            "W0627 18:10:52.399566 140534982911872 deprecation_wrapper.py:119] From /usr/local/lib/python3.6/dist-packages/snorkel/learning/tensorflow/rnn/rnn_base.py:86: The name tf.variable_scope is deprecated. Please use tf.compat.v1.variable_scope instead.\n",
            "\n",
            "W0627 18:10:52.400391 140534982911872 deprecation.py:323] From /usr/local/lib/python3.6/dist-packages/snorkel/learning/tensorflow/rnn/rnn_base.py:88: BasicLSTMCell.__init__ (from tensorflow.python.ops.rnn_cell_impl) is deprecated and will be removed in a future version.\n",
            "Instructions for updating:\n",
            "This class is equivalent as tf.keras.layers.LSTMCell, and will be replaced by that in Tensorflow 2.0.\n",
            "W0627 18:10:52.431884 140534982911872 deprecation.py:323] From /usr/local/lib/python3.6/dist-packages/snorkel/learning/tensorflow/rnn/rnn_base.py:106: bidirectional_dynamic_rnn (from tensorflow.python.ops.rnn) is deprecated and will be removed in a future version.\n",
            "Instructions for updating:\n",
            "Please use `keras.layers.Bidirectional(keras.layers.RNN(cell))`, which is equivalent to this API\n",
            "W0627 18:10:52.433006 140534982911872 deprecation.py:323] From /usr/local/lib/python3.6/dist-packages/tensorflow/python/ops/rnn.py:464: dynamic_rnn (from tensorflow.python.ops.rnn) is deprecated and will be removed in a future version.\n",
            "Instructions for updating:\n",
            "Please use `keras.layers.RNN(cell)`, which is equivalent to this API\n",
            "W0627 18:10:52.536549 140534982911872 deprecation.py:506] From /usr/local/lib/python3.6/dist-packages/tensorflow/python/ops/rnn_cell_impl.py:738: calling Zeros.__init__ (from tensorflow.python.ops.init_ops) with dtype is deprecated and will be removed in a future version.\n",
            "Instructions for updating:\n",
            "Call initializer instance with the dtype argument instead of passing it to the constructor\n",
            "W0627 18:10:52.878392 140534982911872 deprecation.py:323] From /usr/local/lib/python3.6/dist-packages/tensorflow/python/ops/rnn.py:244: add_dispatch_support.<locals>.wrapper (from tensorflow.python.ops.array_ops) is deprecated and will be removed in a future version.\n",
            "Instructions for updating:\n",
            "Use tf.where in 2.0, which has the same broadcast rule as np.where\n",
            "W0627 18:10:54.038899 140534982911872 deprecation.py:506] From /usr/local/lib/python3.6/dist-packages/snorkel/learning/tensorflow/rnn/rnn_base.py:112: calling dropout (from tensorflow.python.ops.nn_ops) with keep_prob is deprecated and will be removed in a future version.\n",
            "Instructions for updating:\n",
            "Please use `rate` instead of `keep_prob`. Rate should be set to `rate = 1 - keep_prob`.\n",
            "W0627 18:10:54.066233 140534982911872 deprecation_wrapper.py:119] From /usr/local/lib/python3.6/dist-packages/snorkel/learning/tensorflow/noise_aware_model.py:126: The name tf.Session is deprecated. Please use tf.compat.v1.Session instead.\n",
            "\n",
            "W0627 18:10:55.288711 140534982911872 deprecation_wrapper.py:119] From /usr/local/lib/python3.6/dist-packages/snorkel/learning/tensorflow/noise_aware_model.py:89: The name tf.train.AdamOptimizer is deprecated. Please use tf.compat.v1.train.AdamOptimizer instead.\n",
            "\n"
          ],
          "name": "stderr"
        },
        {
          "output_type": "stream",
          "text": [
            "[TextRNN] Training model\n",
            "[TextRNN] n_train=114919  #epochs=10  batch size=25\n"
          ],
          "name": "stdout"
        }
      ]
    },
    {
      "cell_type": "code",
      "metadata": {
        "id": "sZBYLyyW-LdP",
        "colab_type": "code",
        "colab": {}
      },
      "source": [
        "accuracy_dev = lstm.score(dev_cands, dev_cand_labels)\n",
        "print(\"precision: {:.5f}\".format(accuracy_dev[0]), \"recall: {:.5f}\".format(accuracy_dev[1]), \n",
        "      \"F-beta: {:.5f}\".format(accuracy_dev[2]))"
      ],
      "execution_count": 0,
      "outputs": []
    },
    {
      "cell_type": "code",
      "metadata": {
        "id": "TlC3vfgA-Nse",
        "colab_type": "code",
        "colab": {}
      },
      "source": [
        "accuracy_test = lstm.score(test_cands, test_cand_labels)\n",
        "print(\"precision: {:.5f}\".format(accuracy_test[0]), \"recall: {:.5f}\".format(accuracy_test[1]), \n",
        "      \"F-beta: {:.5f}\".format(accuracy_test[2]))"
      ],
      "execution_count": 0,
      "outputs": []
    }
  ]
}